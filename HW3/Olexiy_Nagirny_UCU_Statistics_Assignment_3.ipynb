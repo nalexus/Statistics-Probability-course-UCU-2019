{
  "nbformat": 4,
  "nbformat_minor": 0,
  "metadata": {
    "kernelspec": {
      "display_name": "Python 3",
      "language": "python",
      "name": "python3"
    },
    "language_info": {
      "codemirror_mode": {
        "name": "ipython",
        "version": 3
      },
      "file_extension": ".py",
      "mimetype": "text/x-python",
      "name": "python",
      "nbconvert_exporter": "python",
      "pygments_lexer": "ipython3",
      "version": "3.7.3"
    },
    "colab": {
      "name": "Olexiy-Nagirny-UCU-Statistics-Assignment#3.ipynb",
      "provenance": [],
      "collapsed_sections": [
        "juAeSS4-vFzN"
      ]
    }
  },
  "cells": [
    {
      "cell_type": "markdown",
      "metadata": {
        "id": "980y26UOvFv3"
      },
      "source": [
        "   \n",
        "   \n",
        "# Assignment 3"
      ]
    },
    {
      "cell_type": "markdown",
      "metadata": {
        "id": "OTsdZseEv6RG"
      },
      "source": [
        "### Setting up Colab Research environment (Optional)"
      ]
    },
    {
      "cell_type": "code",
      "metadata": {
        "id": "ynow6b7Tv_DB"
      },
      "source": [
        "#@title\n",
        "!apt-get install -y -qq software-properties-common python-software-properties module-init-tools\n",
        "!add-apt-repository -y ppa:alessandro-strada/ppa 2>&1 > /dev/null\n",
        "!apt-get update -qq 2>&1 > /dev/null\n",
        "!apt-get -y install -qq google-drive-ocamlfuse fuse\n",
        "from google.colab import auth\n",
        "auth.authenticate_user()\n",
        "from oauth2client.client import GoogleCredentials\n",
        "creds = GoogleCredentials.get_application_default()\n",
        "import getpass\n",
        "!google-drive-ocamlfuse -headless -id={creds.client_id} -secret={creds.client_secret} < /dev/null 2>&1 | grep URL\n",
        "vcode = getpass.getpass()\n",
        "!echo {vcode} | google-drive-ocamlfuse -headless -id={creds.client_id} -secret={creds.client_secret}\n",
        "!mkdir -p drive\n",
        "!google-drive-ocamlfuse drive\n",
        "from google.colab import drive\n",
        "drive.mount('/content/drive')\n",
        "import os\n",
        "os.chdir(\"drive/My Drive/HW3\")"
      ],
      "execution_count": null,
      "outputs": []
    },
    {
      "cell_type": "markdown",
      "metadata": {
        "id": "K4QcN2livsgk"
      },
      "source": [
        "### Imports"
      ]
    },
    {
      "cell_type": "code",
      "metadata": {
        "id": "aCd3elfGvFv7"
      },
      "source": [
        "import pandas as pd\n",
        "import numpy as np\n",
        "import scipy\n",
        "import math\n",
        "import statsmodels.api as sm\n",
        "import statsmodels.formula.api as smf\n",
        "import statsmodels.graphics as smgraphics\n",
        "from scipy import stats\n",
        "from scipy.stats import skew\n",
        "\n",
        "import matplotlib.pyplot as plt\n",
        "%matplotlib inline\n",
        "import seaborn as sns\n",
        "\n",
        "from sklearn.preprocessing import LabelEncoder\n",
        "\n",
        "import warnings\n",
        "warnings.filterwarnings('ignore')\n",
        "\n"
      ],
      "execution_count": null,
      "outputs": []
    },
    {
      "cell_type": "markdown",
      "metadata": {
        "id": "egK-E0xdvFwA"
      },
      "source": [
        "## **Problem 4: Linear regresion analysis**"
      ]
    },
    {
      "cell_type": "markdown",
      "metadata": {
        "id": "z_9BMugcvFwB"
      },
      "source": [
        "### **1. Have a closer look at the definitions of the variables and analyze which of them might require a separate treatment. Consider for example the variable $ed$. There are two possibilities how the variable ed can be included into the model (one with dummy variables, the other one without dummies). Think about these two approaches and suggest which approach is more appropriate. Motivate your decision.**"
      ]
    },
    {
      "cell_type": "markdown",
      "metadata": {
        "id": "R2Aob26CvFwC"
      },
      "source": [
        "Importing dataset:"
      ]
    },
    {
      "cell_type": "code",
      "metadata": {
        "id": "6RSdfRZ8vFwD"
      },
      "source": [
        "df = pd.read_csv('telco.txt', sep='\\t')"
      ],
      "execution_count": null,
      "outputs": []
    },
    {
      "cell_type": "markdown",
      "metadata": {
        "id": "aUO60JnbvFwF"
      },
      "source": [
        "Let's see how dataset looks like:"
      ]
    },
    {
      "cell_type": "code",
      "metadata": {
        "id": "1FiWE8XQvFwG",
        "colab": {
          "base_uri": "https://localhost:8080/",
          "height": 203
        },
        "outputId": "47f8cb8b-08ed-43f0-96eb-96325c32f3ff"
      },
      "source": [
        "df.head()"
      ],
      "execution_count": null,
      "outputs": [
        {
          "output_type": "execute_result",
          "data": {
            "text/html": [
              "<div>\n",
              "<style scoped>\n",
              "    .dataframe tbody tr th:only-of-type {\n",
              "        vertical-align: middle;\n",
              "    }\n",
              "\n",
              "    .dataframe tbody tr th {\n",
              "        vertical-align: top;\n",
              "    }\n",
              "\n",
              "    .dataframe thead th {\n",
              "        text-align: right;\n",
              "    }\n",
              "</style>\n",
              "<table border=\"1\" class=\"dataframe\">\n",
              "  <thead>\n",
              "    <tr style=\"text-align: right;\">\n",
              "      <th></th>\n",
              "      <th>tenure</th>\n",
              "      <th>age</th>\n",
              "      <th>marital</th>\n",
              "      <th>address</th>\n",
              "      <th>income</th>\n",
              "      <th>ed</th>\n",
              "      <th>employ</th>\n",
              "      <th>retire</th>\n",
              "      <th>gender</th>\n",
              "      <th>longmon</th>\n",
              "      <th>wiremon</th>\n",
              "      <th>churn</th>\n",
              "    </tr>\n",
              "  </thead>\n",
              "  <tbody>\n",
              "    <tr>\n",
              "      <th>1</th>\n",
              "      <td>13</td>\n",
              "      <td>44</td>\n",
              "      <td>Married</td>\n",
              "      <td>9</td>\n",
              "      <td>64</td>\n",
              "      <td>College degree</td>\n",
              "      <td>5</td>\n",
              "      <td>No</td>\n",
              "      <td>Male</td>\n",
              "      <td>3.70</td>\n",
              "      <td>0.0</td>\n",
              "      <td>Yes</td>\n",
              "    </tr>\n",
              "    <tr>\n",
              "      <th>2</th>\n",
              "      <td>11</td>\n",
              "      <td>33</td>\n",
              "      <td>Married</td>\n",
              "      <td>7</td>\n",
              "      <td>136</td>\n",
              "      <td>Post-undergraduate degree</td>\n",
              "      <td>5</td>\n",
              "      <td>No</td>\n",
              "      <td>Male</td>\n",
              "      <td>4.40</td>\n",
              "      <td>35.7</td>\n",
              "      <td>Yes</td>\n",
              "    </tr>\n",
              "    <tr>\n",
              "      <th>3</th>\n",
              "      <td>68</td>\n",
              "      <td>52</td>\n",
              "      <td>Married</td>\n",
              "      <td>24</td>\n",
              "      <td>116</td>\n",
              "      <td>Did not complete high school</td>\n",
              "      <td>29</td>\n",
              "      <td>No</td>\n",
              "      <td>Female</td>\n",
              "      <td>18.15</td>\n",
              "      <td>0.0</td>\n",
              "      <td>No</td>\n",
              "    </tr>\n",
              "    <tr>\n",
              "      <th>4</th>\n",
              "      <td>33</td>\n",
              "      <td>33</td>\n",
              "      <td>Unmarried</td>\n",
              "      <td>12</td>\n",
              "      <td>33</td>\n",
              "      <td>High school degree</td>\n",
              "      <td>0</td>\n",
              "      <td>No</td>\n",
              "      <td>Female</td>\n",
              "      <td>9.45</td>\n",
              "      <td>0.0</td>\n",
              "      <td>Yes</td>\n",
              "    </tr>\n",
              "    <tr>\n",
              "      <th>5</th>\n",
              "      <td>23</td>\n",
              "      <td>30</td>\n",
              "      <td>Married</td>\n",
              "      <td>9</td>\n",
              "      <td>30</td>\n",
              "      <td>Did not complete high school</td>\n",
              "      <td>2</td>\n",
              "      <td>No</td>\n",
              "      <td>Male</td>\n",
              "      <td>6.30</td>\n",
              "      <td>0.0</td>\n",
              "      <td>No</td>\n",
              "    </tr>\n",
              "  </tbody>\n",
              "</table>\n",
              "</div>"
            ],
            "text/plain": [
              "   tenure  age    marital  address  ...  gender longmon  wiremon churn\n",
              "1      13   44    Married        9  ...    Male    3.70      0.0   Yes\n",
              "2      11   33    Married        7  ...    Male    4.40     35.7   Yes\n",
              "3      68   52    Married       24  ...  Female   18.15      0.0    No\n",
              "4      33   33  Unmarried       12  ...  Female    9.45      0.0   Yes\n",
              "5      23   30    Married        9  ...    Male    6.30      0.0    No\n",
              "\n",
              "[5 rows x 12 columns]"
            ]
          },
          "metadata": {
            "tags": []
          },
          "execution_count": 7
        }
      ]
    },
    {
      "cell_type": "markdown",
      "metadata": {
        "id": "xtJ3wJyhvFwL"
      },
      "source": [
        "Generally we can use following approaches to encode categorical variables:\n",
        "- assume that there is no established order between values in category and apply DUMMY variable approach: binary (if there are only two values in category) or one-hot encoding (more that two values in category);\n",
        "- assume that there an established order between values and treating category as ordinal, encoding each value in some decreasing or increasing order, which give us certain order. Here we can also apply so called impact (target) encoding techniques, established in various data science contests as vary useful for certain type of predictive algorithms.\n",
        "- assume that there is only difference between two or more clusters of categorical values, like 'have an education' and \"no education\", encoding all values respectively."
      ]
    },
    {
      "cell_type": "markdown",
      "metadata": {
        "id": "SLpFhNOvvFwM"
      },
      "source": [
        "Before considering **\"ed\"** variable we will take of other categoricals, as we are already instructed how to encode them in Assignment. Varibles \"marital\",\"retire\",\"gender\" and \"churn\" have no natural order between them. They must contain only two values per each. Let's check it (whether there is some data cleaning need):"
      ]
    },
    {
      "cell_type": "code",
      "metadata": {
        "id": "9TtYZFRwvFwN",
        "colab": {
          "base_uri": "https://localhost:8080/",
          "height": 237
        },
        "outputId": "80b596fd-d2ae-46d8-8a8a-81b05f72d7d7"
      },
      "source": [
        "binary_cols = df.select_dtypes(include=['category','object']).drop('ed',axis=1).columns.tolist()\n",
        "for col in binary_cols:\n",
        "    print(\"values in\",col,\":\",df[col].unique().tolist())\n",
        "    print('len:',len(df[col].unique().tolist()))\n",
        "    print('')"
      ],
      "execution_count": null,
      "outputs": [
        {
          "output_type": "stream",
          "text": [
            "values in marital : ['Married', 'Unmarried']\n",
            "len: 2\n",
            "\n",
            "values in retire : ['No', 'Yes']\n",
            "len: 2\n",
            "\n",
            "values in gender : ['Male', 'Female']\n",
            "len: 2\n",
            "\n",
            "values in churn : ['Yes', 'No']\n",
            "len: 2\n",
            "\n"
          ],
          "name": "stdout"
        }
      ]
    },
    {
      "cell_type": "markdown",
      "metadata": {
        "id": "_DUjZ3tAvFwR"
      },
      "source": [
        "As we supposed, we have two value per categories \"marital\",\"retire\",\"gender\" and \"churn\". "
      ]
    },
    {
      "cell_type": "markdown",
      "metadata": {
        "id": "zMlnWDLevFwR"
      },
      "source": [
        "Now let's look closer at variable \"ed\". What possible values does our dataset have under category \"ed\" ?"
      ]
    },
    {
      "cell_type": "code",
      "metadata": {
        "id": "oQLyGMs3vFwS",
        "colab": {
          "base_uri": "https://localhost:8080/",
          "height": 109
        },
        "outputId": "f8cec88d-b127-4b7e-8483-ee1e471b58d8"
      },
      "source": [
        "df.ed.unique().tolist()"
      ],
      "execution_count": null,
      "outputs": [
        {
          "output_type": "execute_result",
          "data": {
            "text/plain": [
              "['College degree',\n",
              " 'Post-undergraduate degree',\n",
              " 'Did not complete high school',\n",
              " 'High school degree',\n",
              " 'Some college']"
            ]
          },
          "metadata": {
            "tags": []
          },
          "execution_count": 9
        }
      ]
    },
    {
      "cell_type": "markdown",
      "metadata": {
        "id": "NL81nRAovFwV"
      },
      "source": [
        "Variable ed contains 5 possible values, each of which corresponds to certain level of education. Each of these values must be encoded. Let's consider this issue in the context of whether they shall be dummy-encoded or not:"
      ]
    },
    {
      "cell_type": "markdown",
      "metadata": {
        "id": "KIlMp3WNvFwW"
      },
      "source": [
        "**Considerations:**\n",
        "- Generally, there is no silver bullet in this case as we don't know beforehand whether there is actually some linear dependence between level of education and $longmon$;\n",
        "- It is surely possible that $longmon$ can be both negatively and positively affected by level of education as in some cases level of education prevents people from using 'scam-products', but in other cases level of education can be interacted with income variable in some non-linear way,like $ed^2 income$,signalling readiness to use a product for a long time etc.;\n",
        "- We can do dummy variable (one-hot) encoding and hope that during linear regression we will capture with our coefficients relative dependence between every categorical value and $longmon$. This will definitely be more plausible than assumption that we have an eastablished magnitutes of differences between each value like 'Did not complete high school' = 0, 'High school degree' = 1, 'Some college' : 2....etc.;  \n",
        "- It can also be the case that there is no difference between levels of education, but only between having any education and no education at all. In this case we can do simple binary encoding;\n",
        "- In any case, during statistical analysis (performed in a loop 'feature engineering'-'feature selection'-'modelling'-'interpretation') we must at least compare few encoding approaches with regards to regression results such as Adjusted-R and statistical significance of coefficients. There could a trade-off between accuracy and interpetability in our choices.\n",
        "\n",
        "**Decision:** \n",
        "\n",
        "For the first regression run I will use dummy encoding.\n",
        "\n",
        "**Reasons:**\n",
        "\n",
        "- I don't know whether and to what degree there is a difference between levels of education in its influence on churn rate. \n",
        "- Dummy encoding can capture more possible magnitudes of differences between 'College degree','Post-undergraduate degree', 'Did not complete high school', High school degree', 'Some college' then just 'Did not complete high school' = 0, 'High school degree' = 1, 'Some college' : 2....etc.\n",
        "- We have only 5 distinct values and won't increse dimensionality of our dataset too much."
      ]
    },
    {
      "cell_type": "markdown",
      "metadata": {
        "id": "fiFrMgVavFwX"
      },
      "source": [
        "Exctracting interval scaled variables before encoding categoricals:"
      ]
    },
    {
      "cell_type": "code",
      "metadata": {
        "id": "SrQd2kcEvFwX"
      },
      "source": [
        "interval_vars = df.select_dtypes(include=['float','int']).columns.tolist()"
      ],
      "execution_count": null,
      "outputs": []
    },
    {
      "cell_type": "markdown",
      "metadata": {
        "id": "kVxFG3gYvFwa"
      },
      "source": [
        "Let's now perform encoding to all categoricals:"
      ]
    },
    {
      "cell_type": "code",
      "metadata": {
        "id": "X3WIo71ivFwc"
      },
      "source": [
        "df['marital'] = df['marital'].apply(lambda val: 1 if val == 'Married' else 0)\n",
        "df['retire'] = df['retire'].apply(lambda val: 1 if val == 'Yes' else 0)\n",
        "df['gender'] = df['gender'].apply(lambda val: 1 if val == 'Male' else 0)\n",
        "df['churn'] = df['churn'].apply(lambda val: 1 if val == 'Yes' else 0)"
      ],
      "execution_count": null,
      "outputs": []
    },
    {
      "cell_type": "markdown",
      "metadata": {
        "id": "l13PMTZ3vFwe"
      },
      "source": [
        "One-hot to \"ed\":"
      ]
    },
    {
      "cell_type": "code",
      "metadata": {
        "id": "t8-XguQEvFwf"
      },
      "source": [
        "df = pd.get_dummies(df,drop_first=True)"
      ],
      "execution_count": null,
      "outputs": []
    },
    {
      "cell_type": "markdown",
      "metadata": {
        "id": "LWHkhlfOvFwi"
      },
      "source": [
        "### **2. Consider now the dependent variable and the interval (metric) scaled explanatory variables. Plot these data and decide if you wish to transform these $x-variables$ and if there is a need to transform the $y-variable$. You can also use some measure of skewness to decide about $y$. The variable $wiremon$ shows a very specific pattern. How would you take it into account?**"
      ]
    },
    {
      "cell_type": "markdown",
      "metadata": {
        "id": "V1hODS-0Z-xE"
      },
      "source": [
        "Generally, nor dependent neither independent variables are required to be normally distributed $per$ $se$ in linear regression. The requirement is about normal distribution of residuals. However, frequently, log transformation of independent variable can help in getting normal residuals. On this stage we can also explore independent variables on whether we can do some feature engineering based on their distribution."
      ]
    },
    {
      "cell_type": "markdown",
      "metadata": {
        "id": "mMsyCU87vFwn"
      },
      "source": [
        "Also we know that one of the requirements for model (coefficients,p-values) interpretation and specification is that there is no strong multicollinearity between independent variables. \n",
        "Let's firstly check simple pairwise collinearity with correlation matrix and condition number as in case of collinearity we may want to log transform or delete our independent variables."
      ]
    },
    {
      "cell_type": "markdown",
      "metadata": {
        "id": "4uESTrhYvFwp"
      },
      "source": [
        "Plotting correlation matrix:"
      ]
    },
    {
      "cell_type": "code",
      "metadata": {
        "id": "-_WdMBitvFwq",
        "outputId": "a912912a-af01-4399-9a77-775a3ff62098"
      },
      "source": [
        "#let's plot correlation matrix\n",
        "plt.figure(figsize=(10,5))\n",
        "sns.heatmap(df[interval_vars].drop('longmon',axis=1).corr(),cmap=\"YlGnBu\",annot=True)\n",
        "plt.show()"
      ],
      "execution_count": null,
      "outputs": [
        {
          "output_type": "display_data",
          "data": {
            "image/png": "[encoded data removed]",
            "text/plain": [
              "<Figure size 720x360 with 2 Axes>"
            ]
          },
          "metadata": {
            "tags": [],
            "needs_background": "light"
          }
        }
      ]
    },
    {
      "cell_type": "markdown",
      "metadata": {
        "id": "Cgp7u3mivFws"
      },
      "source": [
        "Condition number as one of indicators of overall multicollinarity in generalized linear models. Let's check whether condition number is higher than 30, as it will signal on some severe multicollinearilty. This rule of thumb is from \"Belsley, David (1991). Conditioning Diagnostics: Collinearity and Weak Data in Regression\"."
      ]
    },
    {
      "cell_type": "code",
      "metadata": {
        "id": "oAZ5mz0nvFwt",
        "outputId": "d83f288c-ce58-4b9e-dd7c-c4724752bb8f"
      },
      "source": [
        "print(np.linalg.cond(df[interval_vars].drop('longmon',axis=1).corr()))"
      ],
      "execution_count": null,
      "outputs": [
        {
          "output_type": "stream",
          "text": [
            "12.41773850885095\n"
          ],
          "name": "stdout"
        }
      ]
    },
    {
      "cell_type": "markdown",
      "metadata": {
        "id": "pKshY_fgvFww"
      },
      "source": [
        "**Conclusion:** There is no overall severe multicollinarity in our basic feature set as cond.number < 30."
      ]
    },
    {
      "cell_type": "markdown",
      "metadata": {
        "id": "cut-dXoQbLA1"
      },
      "source": [
        "Let's now look at distribution of dependent and independent variables."
      ]
    },
    {
      "cell_type": "markdown",
      "metadata": {
        "id": "U8Z3i4utvFxV"
      },
      "source": [
        "#### Dependent variable 'longmon'"
      ]
    },
    {
      "cell_type": "code",
      "metadata": {
        "id": "j-u_GCvPvFxX",
        "colab": {
          "base_uri": "https://localhost:8080/",
          "height": 334
        },
        "outputId": "9f1924be-753b-4b02-9de4-b0f5fca6a55a"
      },
      "source": [
        "f, axes = plt.subplots(1, 2, figsize=(15,5))\n",
        "\n",
        "lsns.stripplot(df['longmon'], color=\"red\", ax=axes[0])\n",
        "sns.distplot(df['longmon'], ax=axes[1])\n",
        "plt.show()"
      ],
      "execution_count": null,
      "outputs": [
        {
          "output_type": "display_data",
          "data": {
            "image/png": "[encoded data removed]",
            "text/plain": [
              "<Figure size 1080x360 with 2 Axes>"
            ]
          },
          "metadata": {
            "tags": []
          }
        }
      ]
    },
    {
      "cell_type": "markdown",
      "metadata": {
        "id": "qHoVs0XBvFxa"
      },
      "source": [
        "It is already obvious that data is skewed, but we will also use skewness measure as adjusted Fisher-Pearson standardized moment coefficient formula:\n",
        "\n",
        "$G_1 = \\frac{\\sqrt{N(N-1)}}{N-2} \\frac{m_3}{m_2^{3/2}}$\n",
        "\n",
        ",where\n",
        "\n",
        "- $m_i = \\frac{1}{N}\\sum_{n=1}^{N}(x[n]-\\bar{x})^i$ - $i$th sample central moment; \n",
        "\n",
        "- $\\bar{x}$ - the sample mean;\n",
        "\n",
        "- $\\frac{\\sqrt{N(N-1)}}{N-2}$ - correction for sample bias.\n",
        "\n",
        "As a general rule of thumb: If skewness is less than -1 or greater than 1, the distribution is highly skewed:"
      ]
    },
    {
      "cell_type": "code",
      "metadata": {
        "id": "AZkDbNpFvFxb",
        "colab": {
          "base_uri": "https://localhost:8080/",
          "height": 36
        },
        "outputId": "79b6ac05-c55a-46e7-9798-a88e7938a521"
      },
      "source": [
        "print(skew(df['longmon'],bias=False))"
      ],
      "execution_count": null,
      "outputs": [
        {
          "output_type": "stream",
          "text": [
            "2.9661041299742346\n"
          ],
          "name": "stdout"
        }
      ]
    },
    {
      "cell_type": "markdown",
      "metadata": {
        "id": "PrbkU9hXvFxd"
      },
      "source": [
        "**Conclusion**: our dependent variable is highly skewed.\n",
        "\n",
        "We know, that in linear regression there is no assumption regarding normality of dependent variable (only residuals). But it is also widespread practice to make dependent variable more normal as it can help in making out residuals normal. But let's see a plot of natural log of $y-variable$: "
      ]
    },
    {
      "cell_type": "code",
      "metadata": {
        "id": "rLqVIFo5vFxe",
        "colab": {
          "base_uri": "https://localhost:8080/",
          "height": 334
        },
        "outputId": "fdc60e07-b52b-478f-f77a-0e10eac7130d"
      },
      "source": [
        "f, axes = plt.subplots(1, 2, figsize=(15,5))\n",
        "\n",
        "sns.boxplot(np.log(df['longmon']),ax=axes[0])\n",
        "sns.stripplot(np.log(df['longmon']), color=\"red\", ax=axes[0])\n",
        "sns.distplot(np.log(df['longmon']), ax=axes[1])\n",
        "plt.show()"
      ],
      "execution_count": null,
      "outputs": [
        {
          "output_type": "display_data",
          "data": {
            "image/png": "[encoded data removed]",
            "text/plain": [
              "<Figure size 1080x360 with 2 Axes>"
            ]
          },
          "metadata": {
            "tags": []
          }
        }
      ]
    },
    {
      "cell_type": "markdown",
      "metadata": {
        "id": "RcE_PpuzvFxh"
      },
      "source": [
        "Data became more symmetric around the mean. "
      ]
    },
    {
      "cell_type": "markdown",
      "metadata": {
        "id": "BpXYO_WbvFxh"
      },
      "source": [
        "**Decision**:\n",
        "\n",
        "Given all above-mentioned, I'll transform our dependent variable 'longmon':"
      ]
    },
    {
      "cell_type": "code",
      "metadata": {
        "id": "A0qDEreHvFxj"
      },
      "source": [
        "df['longmon_log'] = np.log(df.longmon).values"
      ],
      "execution_count": null,
      "outputs": []
    },
    {
      "cell_type": "markdown",
      "metadata": {
        "id": "pHyB39eWvFxm"
      },
      "source": [
        "#### Independent variables"
      ]
    },
    {
      "cell_type": "markdown",
      "metadata": {
        "id": "fN6wcVCjeThM"
      },
      "source": [
        "Generally, there is no need to ensure normality of independent variables but let's look as an example at some of them, such as $tenure$ and $wiremon$ for the sake of feature engineering demonstration."
      ]
    },
    {
      "cell_type": "markdown",
      "metadata": {
        "id": "s1Jljm5QvFxm"
      },
      "source": [
        "**\"tenure\"**"
      ]
    },
    {
      "cell_type": "markdown",
      "metadata": {
        "jupyter": {
          "source_hidden": true
        },
        "id": "j6pV_n68vFxn"
      },
      "source": [
        "Plotting boxplot and pdf to see distributions:"
      ]
    },
    {
      "cell_type": "code",
      "metadata": {
        "jupyter": {
          "outputs_hidden": true,
          "source_hidden": true
        },
        "id": "z_3IOVfJvFxo",
        "outputId": "2f812d98-00bc-4872-d81d-c4c264638c0d"
      },
      "source": [
        "f, axes = plt.subplots(1, 2, figsize=(15,5))\n",
        "\n",
        "sns.boxplot(df['tenure'],ax=axes[0])\n",
        "sns.stripplot(df['tenure'], color=\"red\", ax=axes[0])\n",
        "sns.distplot(df['tenure'], ax=axes[1])\n",
        "plt.show()"
      ],
      "execution_count": null,
      "outputs": [
        {
          "output_type": "display_data",
          "data": {
            "image/png": "[encoded data removed]",
            "text/plain": [
              "<Figure size 1080x360 with 2 Axes>"
            ]
          },
          "metadata": {
            "tags": [],
            "needs_background": "light"
          }
        }
      ]
    },
    {
      "cell_type": "markdown",
      "metadata": {
        "id": "lfcSn74sd3GU"
      },
      "source": [
        "**Conclusion**:\n",
        "\n",
        "Seems like $tenure$ can have 2 clusters, being bimodal, but tails are not that different from the center, so I won't do anything about this variable or create a new additional variable (indicator).\n",
        "\n"
      ]
    },
    {
      "cell_type": "markdown",
      "metadata": {
        "id": "fzBaz5FmvFxr"
      },
      "source": [
        "**\"wiremon\"**"
      ]
    },
    {
      "cell_type": "code",
      "metadata": {
        "id": "CixjrAeFvFxt",
        "colab": {
          "base_uri": "https://localhost:8080/",
          "height": 334
        },
        "outputId": "32e3af2a-c8dc-45fe-8683-265ea6985852"
      },
      "source": [
        "f, axes = plt.subplots(1, 2, figsize=(15,5))\n",
        "\n",
        "sns.boxplot(df['wiremon'],ax=axes[0])\n",
        "sns.stripplot(df['wiremon'], color=\"red\", ax=axes[0])\n",
        "sns.distplot(df['wiremon'], ax=axes[1])\n",
        "plt.show()"
      ],
      "execution_count": null,
      "outputs": [
        {
          "output_type": "display_data",
          "data": {
            "image/png": "[encoded data removed]",
            "text/plain": [
              "<Figure size 1080x360 with 2 Axes>"
            ]
          },
          "metadata": {
            "tags": []
          }
        }
      ]
    },
    {
      "cell_type": "markdown",
      "metadata": {
        "id": "o2EdfYTovFxy"
      },
      "source": [
        "**Conclusion**:\n",
        "\n",
        "It seem like we need an indicator variable which signals whether a user used an internet last month at all, as a whole bunch of people didn't do that and this fact skews our distribution a lot. Let's create such binary variable in our dataset, where \"0\" means didn't use Internet, \"1\" means used and see their distribution:"
      ]
    },
    {
      "cell_type": "code",
      "metadata": {
        "id": "VQnzncEwvFxz"
      },
      "source": [
        "df['used_wire'] = 0\n",
        "df.loc[df.wiremon>0,'used_wire']=1"
      ],
      "execution_count": null,
      "outputs": []
    },
    {
      "cell_type": "markdown",
      "metadata": {
        "id": "NIY30H4afTdZ"
      },
      "source": [
        "We will stop dealing with independent variables as in general we don't need their normality (only residuals) and looked at above two for the sake of demonstration of feature engineering."
      ]
    },
    {
      "cell_type": "markdown",
      "metadata": {
        "id": "rlmKNmpSvFyn"
      },
      "source": [
        "### **3. After making up your decision about the above two problems run a simple linear regression. Pick up one of the regressors. Write down the corresponding hypothesis of the t-test. Provide the formula for the test statistics, explain the components of the formula and give the values for this components. Evaluate the goodness of the model. Explain in your own words the difference between $R^2$ and adjusted $R^2$.**"
      ]
    },
    {
      "cell_type": "markdown",
      "metadata": {
        "id": "8k6xulezvFyo"
      },
      "source": [
        "Running regression:"
      ]
    },
    {
      "cell_type": "code",
      "metadata": {
        "id": "c2Lf66FmvFyp"
      },
      "source": [
        "x = df.drop(['longmon_log','longmon'],axis=1).copy()\n",
        "x = sm.add_constant(x)\n",
        "y = df['longmon_log'].copy()\n",
        "model = sm.OLS(y, x)\n",
        "result = model.fit()\n",
        "summary = result.summary()\n"
      ],
      "execution_count": null,
      "outputs": []
    },
    {
      "cell_type": "code",
      "metadata": {
        "id": "MzUNfY_Pgr0W",
        "colab": {
          "base_uri": "https://localhost:8080/",
          "height": 744
        },
        "outputId": "18782f13-c9df-4dbd-aff0-c8358f99ce1b"
      },
      "source": [
        "summary"
      ],
      "execution_count": null,
      "outputs": [
        {
          "output_type": "execute_result",
          "data": {
            "text/html": [
              "<table class=\"simpletable\">\n",
              "<caption>OLS Regression Results</caption>\n",
              "<tr>\n",
              "  <th>Dep. Variable:</th>       <td>longmon_log</td>   <th>  R-squared:         </th> <td>   0.717</td> \n",
              "</tr>\n",
              "<tr>\n",
              "  <th>Model:</th>                   <td>OLS</td>       <th>  Adj. R-squared:    </th> <td>   0.713</td> \n",
              "</tr>\n",
              "<tr>\n",
              "  <th>Method:</th>             <td>Least Squares</td>  <th>  F-statistic:       </th> <td>   166.4</td> \n",
              "</tr>\n",
              "<tr>\n",
              "  <th>Date:</th>             <td>Sun, 09 Feb 2020</td> <th>  Prob (F-statistic):</th> <td>2.72e-257</td>\n",
              "</tr>\n",
              "<tr>\n",
              "  <th>Time:</th>                 <td>02:43:50</td>     <th>  Log-Likelihood:    </th> <td> -478.43</td> \n",
              "</tr>\n",
              "<tr>\n",
              "  <th>No. Observations:</th>      <td>  1000</td>      <th>  AIC:               </th> <td>   988.9</td> \n",
              "</tr>\n",
              "<tr>\n",
              "  <th>Df Residuals:</th>          <td>   984</td>      <th>  BIC:               </th> <td>   1067.</td> \n",
              "</tr>\n",
              "<tr>\n",
              "  <th>Df Model:</th>              <td>    15</td>      <th>                     </th>     <td> </td>    \n",
              "</tr>\n",
              "<tr>\n",
              "  <th>Covariance Type:</th>      <td>nonrobust</td>    <th>                     </th>     <td> </td>    \n",
              "</tr>\n",
              "</table>\n",
              "<table class=\"simpletable\">\n",
              "<tr>\n",
              "                 <td></td>                    <th>coef</th>     <th>std err</th>      <th>t</th>      <th>P>|t|</th>  <th>[0.025</th>    <th>0.975]</th>  \n",
              "</tr>\n",
              "<tr>\n",
              "  <th>const</th>                           <td>    1.2459</td> <td>    0.064</td> <td>   19.388</td> <td> 0.000</td> <td>    1.120</td> <td>    1.372</td>\n",
              "</tr>\n",
              "<tr>\n",
              "  <th>tenure</th>                          <td>    0.0273</td> <td>    0.001</td> <td>   34.252</td> <td> 0.000</td> <td>    0.026</td> <td>    0.029</td>\n",
              "</tr>\n",
              "<tr>\n",
              "  <th>age</th>                             <td>   -0.0025</td> <td>    0.002</td> <td>   -1.524</td> <td> 0.128</td> <td>   -0.006</td> <td>    0.001</td>\n",
              "</tr>\n",
              "<tr>\n",
              "  <th>marital</th>                         <td>    0.0696</td> <td>    0.026</td> <td>    2.720</td> <td> 0.007</td> <td>    0.019</td> <td>    0.120</td>\n",
              "</tr>\n",
              "<tr>\n",
              "  <th>address</th>                         <td>    0.0038</td> <td>    0.002</td> <td>    2.180</td> <td> 0.030</td> <td>    0.000</td> <td>    0.007</td>\n",
              "</tr>\n",
              "<tr>\n",
              "  <th>income</th>                          <td> -8.51e-05</td> <td>    0.000</td> <td>   -0.574</td> <td> 0.566</td> <td>   -0.000</td> <td>    0.000</td>\n",
              "</tr>\n",
              "<tr>\n",
              "  <th>employ</th>                          <td>    0.0036</td> <td>    0.002</td> <td>    1.774</td> <td> 0.076</td> <td>   -0.000</td> <td>    0.008</td>\n",
              "</tr>\n",
              "<tr>\n",
              "  <th>retire</th>                          <td>    0.1983</td> <td>    0.069</td> <td>    2.889</td> <td> 0.004</td> <td>    0.064</td> <td>    0.333</td>\n",
              "</tr>\n",
              "<tr>\n",
              "  <th>gender</th>                          <td>    0.0347</td> <td>    0.025</td> <td>    1.382</td> <td> 0.167</td> <td>   -0.015</td> <td>    0.084</td>\n",
              "</tr>\n",
              "<tr>\n",
              "  <th>wiremon</th>                         <td> 1.548e-05</td> <td>    0.002</td> <td>    0.010</td> <td> 0.992</td> <td>   -0.003</td> <td>    0.003</td>\n",
              "</tr>\n",
              "<tr>\n",
              "  <th>churn</th>                           <td>   -0.0387</td> <td>    0.031</td> <td>   -1.255</td> <td> 0.210</td> <td>   -0.099</td> <td>    0.022</td>\n",
              "</tr>\n",
              "<tr>\n",
              "  <th>ed_Did not complete high school</th> <td>   -0.1329</td> <td>    0.042</td> <td>   -3.189</td> <td> 0.001</td> <td>   -0.215</td> <td>   -0.051</td>\n",
              "</tr>\n",
              "<tr>\n",
              "  <th>ed_High school degree</th>           <td>   -0.0340</td> <td>    0.036</td> <td>   -0.937</td> <td> 0.349</td> <td>   -0.105</td> <td>    0.037</td>\n",
              "</tr>\n",
              "<tr>\n",
              "  <th>ed_Post-undergraduate degree</th>    <td>   -0.1014</td> <td>    0.055</td> <td>   -1.840</td> <td> 0.066</td> <td>   -0.210</td> <td>    0.007</td>\n",
              "</tr>\n",
              "<tr>\n",
              "  <th>ed_Some college</th>                 <td>   -0.0409</td> <td>    0.038</td> <td>   -1.073</td> <td> 0.284</td> <td>   -0.116</td> <td>    0.034</td>\n",
              "</tr>\n",
              "<tr>\n",
              "  <th>used_wire</th>                       <td>   -0.0044</td> <td>    0.066</td> <td>   -0.067</td> <td> 0.947</td> <td>   -0.134</td> <td>    0.126</td>\n",
              "</tr>\n",
              "</table>\n",
              "<table class=\"simpletable\">\n",
              "<tr>\n",
              "  <th>Omnibus:</th>       <td> 2.172</td> <th>  Durbin-Watson:     </th> <td>   1.944</td>\n",
              "</tr>\n",
              "<tr>\n",
              "  <th>Prob(Omnibus):</th> <td> 0.338</td> <th>  Jarque-Bera (JB):  </th> <td>   2.141</td>\n",
              "</tr>\n",
              "<tr>\n",
              "  <th>Skew:</th>          <td>-0.050</td> <th>  Prob(JB):          </th> <td>   0.343</td>\n",
              "</tr>\n",
              "<tr>\n",
              "  <th>Kurtosis:</th>      <td> 3.203</td> <th>  Cond. No.          </th> <td>    875.</td>\n",
              "</tr>\n",
              "</table><br/><br/>Warnings:<br/>[1] Standard Errors assume that the covariance matrix of the errors is correctly specified."
            ],
            "text/plain": [
              "<class 'statsmodels.iolib.summary.Summary'>\n",
              "\"\"\"\n",
              "                            OLS Regression Results                            \n",
              "==============================================================================\n",
              "Dep. Variable:            longmon_log   R-squared:                       0.717\n",
              "Model:                            OLS   Adj. R-squared:                  0.713\n",
              "Method:                 Least Squares   F-statistic:                     166.4\n",
              "Date:                Sun, 09 Feb 2020   Prob (F-statistic):          2.72e-257\n",
              "Time:                        02:43:50   Log-Likelihood:                -478.43\n",
              "No. Observations:                1000   AIC:                             988.9\n",
              "Df Residuals:                     984   BIC:                             1067.\n",
              "Df Model:                          15                                         \n",
              "Covariance Type:            nonrobust                                         \n",
              "===================================================================================================\n",
              "                                      coef    std err          t      P>|t|      [0.025      0.975]\n",
              "---------------------------------------------------------------------------------------------------\n",
              "const                               1.2459      0.064     19.388      0.000       1.120       1.372\n",
              "tenure                              0.0273      0.001     34.252      0.000       0.026       0.029\n",
              "age                                -0.0025      0.002     -1.524      0.128      -0.006       0.001\n",
              "marital                             0.0696      0.026      2.720      0.007       0.019       0.120\n",
              "address                             0.0038      0.002      2.180      0.030       0.000       0.007\n",
              "income                           -8.51e-05      0.000     -0.574      0.566      -0.000       0.000\n",
              "employ                              0.0036      0.002      1.774      0.076      -0.000       0.008\n",
              "retire                              0.1983      0.069      2.889      0.004       0.064       0.333\n",
              "gender                              0.0347      0.025      1.382      0.167      -0.015       0.084\n",
              "wiremon                          1.548e-05      0.002      0.010      0.992      -0.003       0.003\n",
              "churn                              -0.0387      0.031     -1.255      0.210      -0.099       0.022\n",
              "ed_Did not complete high school    -0.1329      0.042     -3.189      0.001      -0.215      -0.051\n",
              "ed_High school degree              -0.0340      0.036     -0.937      0.349      -0.105       0.037\n",
              "ed_Post-undergraduate degree       -0.1014      0.055     -1.840      0.066      -0.210       0.007\n",
              "ed_Some college                    -0.0409      0.038     -1.073      0.284      -0.116       0.034\n",
              "used_wire                          -0.0044      0.066     -0.067      0.947      -0.134       0.126\n",
              "==============================================================================\n",
              "Omnibus:                        2.172   Durbin-Watson:                   1.944\n",
              "Prob(Omnibus):                  0.338   Jarque-Bera (JB):                2.141\n",
              "Skew:                          -0.050   Prob(JB):                        0.343\n",
              "Kurtosis:                       3.203   Cond. No.                         875.\n",
              "==============================================================================\n",
              "\n",
              "Warnings:\n",
              "[1] Standard Errors assume that the covariance matrix of the errors is correctly specified.\n",
              "\"\"\""
            ]
          },
          "metadata": {
            "tags": []
          },
          "execution_count": 173
        }
      ]
    },
    {
      "cell_type": "markdown",
      "metadata": {
        "id": "48k73HZsvFyz"
      },
      "source": [
        "#### Hypothesis for t-test:"
      ]
    },
    {
      "cell_type": "markdown",
      "metadata": {
        "id": "jDxc994YvFyz"
      },
      "source": [
        "Let's pickup \"$ed$_$Did$ $not$ $complete$ $high$ $school$\" as a regressor. Let's call coefficient corresponding to it as $\\beta$.\n",
        "\n",
        "Null hypothesis of t-test by default (in scipy and other statistical software) is usually such that there is no relationship between regressor and dependent variable:\n",
        "\n",
        "$H_0: \\beta = 0$\n",
        "\n",
        "Alternative hypothesis of t-test is that there is either positive or negative relationship between \"marital\" and \"longmon\":\n",
        "\n",
        "$H_1: \\beta \\not= 0$."
      ]
    },
    {
      "cell_type": "markdown",
      "metadata": {
        "id": "esEMb3pUvFy0"
      },
      "source": [
        "#### Formula for t-test:"
      ]
    },
    {
      "cell_type": "markdown",
      "metadata": {
        "id": "uTAicDSfvFy0"
      },
      "source": [
        "Formula:\n",
        "\n",
        "$t = \\frac{\\beta - \\beta_{H_0}}{\\sqrt{Var(\\beta)}}$\n",
        "\n",
        ",where\n",
        "\n",
        "- $\\beta$ - our estimated coefficient;\n",
        "- $\\beta_{H_0}$ - coefficient according to null hypothesis;\n",
        "- $\\sqrt{Var(\\beta)}$ - standard error of our estimated coefficient."
      ]
    },
    {
      "cell_type": "markdown",
      "metadata": {
        "id": "dwXntqMPvFy4"
      },
      "source": [
        "### Values for components of formula"
      ]
    },
    {
      "cell_type": "markdown",
      "metadata": {
        "id": "EDWHimvGvFy5"
      },
      "source": [
        "From above table we can extract values for the formula:"
      ]
    },
    {
      "cell_type": "markdown",
      "metadata": {
        "id": "5Rv4w80evFy5"
      },
      "source": [
        "- $\\beta = -0.1329$;\n",
        "- $\\beta_{H_0} = 0$;\n",
        "- $\\sqrt{Var(\\beta)} = 0.042$."
      ]
    },
    {
      "cell_type": "markdown",
      "metadata": {
        "id": "EutcxdJwvFy6"
      },
      "source": [
        "Let's compute t-value manually and compare it with computed by OLS procedure in statsmodels:"
      ]
    },
    {
      "cell_type": "code",
      "metadata": {
        "id": "7je0CyICvFy6",
        "colab": {
          "base_uri": "https://localhost:8080/",
          "height": 36
        },
        "outputId": "0237ff25-3d21-4335-f192-a84ca622fdc5"
      },
      "source": [
        "-0.1329 / 0.042"
      ],
      "execution_count": null,
      "outputs": [
        {
          "output_type": "execute_result",
          "data": {
            "text/plain": [
              "-3.1642857142857137"
            ]
          },
          "metadata": {
            "tags": []
          },
          "execution_count": 84
        }
      ]
    },
    {
      "cell_type": "markdown",
      "metadata": {
        "id": "JV_htZQtvFy8"
      },
      "source": [
        "This is appr.equal to t-value, found by statsmodels."
      ]
    },
    {
      "cell_type": "markdown",
      "metadata": {
        "id": "rJFOAiivvFy9"
      },
      "source": [
        "**On Adjusted-$R^2$ vs. $R^2$:**"
      ]
    },
    {
      "cell_type": "markdown",
      "metadata": {
        "id": "c-XrScHyvFy9"
      },
      "source": [
        "$R^2$ measures ratio of model explained dependent variable variance to actual dependent variable variance. Adjusted-$R^2$ practically measures the same, but takes into account number of independet variables, imposing penalty for models with lots of 'rubbish' variables that have only overfitting effect on the model."
      ]
    },
    {
      "cell_type": "markdown",
      "metadata": {
        "id": "Myhqp0L3vFy-"
      },
      "source": [
        "### **4.Compute manually the predicted values from the above regression and the residuals. Make two plots: residuals vs. predicted y’s and predicted y’s vs. true y’s. What do you expect in both cases and why? Do the obtained figures support your expectations?**"
      ]
    },
    {
      "cell_type": "markdown",
      "metadata": {
        "id": "BxkC1V3GvFy-"
      },
      "source": [
        "Let's extract all computed $\\beta$-coefficients from our OLS regression results: "
      ]
    },
    {
      "cell_type": "code",
      "metadata": {
        "id": "2d8KQpeKvFy_"
      },
      "source": [
        "beta_coefs = []\n",
        "for i in range(1,x.shape[1]+1):\n",
        "    coef = float(summary.tables[1][:][i].data[1])\n",
        "    beta_coefs.append(coef)\n",
        "beta_coefs = np.array(beta_coefs)"
      ],
      "execution_count": null,
      "outputs": []
    },
    {
      "cell_type": "markdown",
      "metadata": {
        "id": "UC4DeMyRvFzA"
      },
      "source": [
        "We will compute our predictions by dot product of our previously created (from observations) design matrix and vector of beta coefficients:"
      ]
    },
    {
      "cell_type": "code",
      "metadata": {
        "id": "oiaixw2_vFzD"
      },
      "source": [
        "predictions = np.dot(x,beta_coefs)"
      ],
      "execution_count": null,
      "outputs": []
    },
    {
      "cell_type": "markdown",
      "metadata": {
        "id": "nD2l5z0OvFzG"
      },
      "source": [
        "We will compute residuals by subtracting our predictions from true values:"
      ]
    },
    {
      "cell_type": "code",
      "metadata": {
        "id": "V3XSEXZRvFzH"
      },
      "source": [
        "residuals = y.values-predictions"
      ],
      "execution_count": null,
      "outputs": []
    },
    {
      "cell_type": "markdown",
      "metadata": {
        "id": "s6ow_KFCvFzJ"
      },
      "source": [
        "Plotting:"
      ]
    },
    {
      "cell_type": "code",
      "metadata": {
        "id": "tgzGpnwXvFzK",
        "colab": {
          "base_uri": "https://localhost:8080/",
          "height": 350
        },
        "outputId": "61f37a5a-efda-4033-b9c8-91532d7180b1"
      },
      "source": [
        "fig,ax=plt.subplots(1,2,figsize = (15,5))\n",
        "\n",
        "#plotting residuals vs. predicted y’s\n",
        "ax[0].scatter(predictions,residuals)\n",
        "ax[0].set_xlabel('Predicted y')\n",
        "ax[0].set_ylabel('Residuals')\n",
        "ax[0].set_title('Residuals vs. predicted y’s')\n",
        "\n",
        "#plotting predicted y’s vs. true y's\n",
        "ax[1].scatter(y,predictions)\n",
        "ax[1].set_xlabel('True y')\n",
        "ax[1].set_ylabel('Predicted y')\n",
        "ax[1].set_title('Predicted y’s vs. true y’s')\n",
        "\n",
        "plt.show()"
      ],
      "execution_count": null,
      "outputs": [
        {
          "output_type": "display_data",
          "data": {
            "image/png": "[encoded data removed]",
            "text/plain": [
              "<Figure size 1080x360 with 2 Axes>"
            ]
          },
          "metadata": {
            "tags": []
          }
        }
      ]
    },
    {
      "cell_type": "markdown",
      "metadata": {
        "id": "juAeSS4-vFzN"
      },
      "source": [
        "#### - **Plot \"Residuals vs. predicted y’s\"**:\n",
        "\n",
        "**Expected results:**\n",
        "\n",
        "All points should be randomly located around zero with constant variance. Such a situation will confirm constant variance, non-existent dependency between predicted vs. residualsm linear relationship between dependent & independent variables. \n",
        "\n",
        "**Actual results:**\n",
        "\n",
        "We see certain non-linear pattern in the plot with constant variance, which signals dependency between predicted vs. residuals. It could also mean that we have a non-linear relationship in our population. We probably shall also check normality of residuals with Q-Q plot.\n",
        "\n",
        "#### - **Plot \"Predicted y’s vs. true y’s\"**:\n",
        "\n",
        "**Expected results:**\n",
        "\n",
        "Ideally all points shall be close to a regressed diagonal line (straight line at 45 degrees), which means that predicted values are close to the true values. \n",
        "\n",
        "**Actual results:**\n",
        "\n",
        "We see that points are scattered in a non-linear fashion and we certainly can't say that all point are close to a regressed diagonal line."
      ]
    },
    {
      "cell_type": "markdown",
      "metadata": {
        "id": "Wnp6Zu8qvFzO"
      },
      "source": [
        "### **5. If you wish to argue that education is insignificant and use the model with dummies than you have to check the simultaneous insignificance of all dummies which stem from the factor variable $ed$. Run a test for general linear hypothesis and conclude about the significance of $ed$. Write down the matrix and the vector needed in the hypothesis.**"
      ]
    },
    {
      "cell_type": "markdown",
      "metadata": {
        "id": "lyqjckW12CX-"
      },
      "source": [
        "We have $4$ dummies that stem from $ed$ at $11th,12th,13th,14th$ indexes. Let's construct our design matrix $R$ and vector $r$, needed in General Linear Hypothesis."
      ]
    },
    {
      "cell_type": "markdown",
      "metadata": {
        "id": "Ph25Hu003tXC"
      },
      "source": [
        "$R = \\begin{pmatrix}0&0&0&0&0&0&0&0&0&0&0&1&0&0&0&0\\\\ 0&0&0&0&0&0&0&0&0&0&0&0&1&0&0&0\\\\ 0&0&0&0&0&0&0&0&0&0&0&0&0&1&0&0\\\\ 0&0&0&0&0&0&0&0&0&0&0&0&0&0&1&0\\end{pmatrix}$\n",
        "\n",
        "$r = (0,0,0,0)^T$"
      ]
    },
    {
      "cell_type": "markdown",
      "metadata": {
        "id": "TBW8ZCIl8jPH"
      },
      "source": [
        "Our Hypotheses for the test are:\n",
        "\n",
        "$H_0 = \\beta_{11}=\\beta_{12}=\\beta_{13}=\\beta_{14}=0$;\n",
        "\n",
        "$H_1 \\not= 0$ for at least one $\\beta$."
      ]
    },
    {
      "cell_type": "markdown",
      "metadata": {
        "id": "NNXe0R2Q7eTV"
      },
      "source": [
        "Let's run a test for general linear hypothesis and conclude about the significance of $ed$, choosing our $\\alpha = 0.05$. Note that in statsmodels software we only need to write design matrix $R$, as vector $r$ is computed automatically."
      ]
    },
    {
      "cell_type": "code",
      "metadata": {
        "id": "751vb0-s2Z0E",
        "colab": {
          "base_uri": "https://localhost:8080/",
          "height": 36
        },
        "outputId": "e1e8b27a-2837-4f9b-f50f-3b0c7db304cc"
      },
      "source": [
        "R = np.array(([0,0,0,0,0,0,0,0,0,0,0,1,0,0,0,0],\n",
        "              [0,0,0,0,0,0,0,0,0,0,0,0,1,0,0,0],\n",
        "              [0,0,0,0,0,0,0,0,0,0,0,0,0,1,0,0],\n",
        "              [0,0,0,0,0,0,0,0,0,0,0,0,0,0,1,0]\n",
        "              ))\n",
        "\n",
        "print(result.f_test(R))"
      ],
      "execution_count": null,
      "outputs": [
        {
          "output_type": "stream",
          "text": [
            "<F test: F=array([[3.25471393]]), p=0.011539648129844732, df_denom=984, df_num=4>\n"
          ],
          "name": "stdout"
        }
      ]
    },
    {
      "cell_type": "markdown",
      "metadata": {
        "id": "1nM2MmPS91XS"
      },
      "source": [
        "**Conclusion:**\n",
        "\n",
        "We see that p-value is $0.011$. Given that $\\alpha=0.05$, it means that p-value$<\\alpha$ and we can reject null hypothesis that $ed$ variable is insignificant."
      ]
    },
    {
      "cell_type": "markdown",
      "metadata": {
        "id": "EGqQLAl1lM_t"
      },
      "source": [
        "### **6. Provide an economic interpretation for the parameters of $address$, $ed$, and $retire$. Neglect the possible insignificance and keep in mind possible transformations of the variables.**"
      ]
    },
    {
      "cell_type": "markdown",
      "metadata": {
        "id": "19VeNSNapudB"
      },
      "source": [
        "We have not transformed our independent variables (we only log-transformed dependent $longmon$). "
      ]
    },
    {
      "cell_type": "markdown",
      "metadata": {
        "id": "w84yLb3norCH"
      },
      "source": [
        "- **address**:"
      ]
    },
    {
      "cell_type": "code",
      "metadata": {
        "id": "M7hdew-LqcRu",
        "colab": {
          "base_uri": "https://localhost:8080/",
          "height": 36
        },
        "outputId": "63661015-0002-40c5-88dd-397fa6bcbabd"
      },
      "source": [
        "print(\"address coefficient:\", result.params.address)"
      ],
      "execution_count": null,
      "outputs": [
        {
          "output_type": "stream",
          "text": [
            "address coefficient: 0.0037868594079006335\n"
          ],
          "name": "stdout"
        }
      ]
    },
    {
      "cell_type": "markdown",
      "metadata": {
        "id": "bpy9pfHoqVql"
      },
      "source": [
        "Let's exponentiate $address$, subtract 1 and multiply by 100:"
      ]
    },
    {
      "cell_type": "code",
      "metadata": {
        "id": "00cBIwoQlRjq",
        "colab": {
          "base_uri": "https://localhost:8080/",
          "height": 36
        },
        "outputId": "96af4fce-1680-4a80-d73c-34cfa24abe97"
      },
      "source": [
        "100*(np.exp(result.params.address)-1)"
      ],
      "execution_count": null,
      "outputs": [
        {
          "output_type": "execute_result",
          "data": {
            "text/plain": [
              "0.3794038619349127"
            ]
          },
          "metadata": {
            "tags": []
          },
          "execution_count": 98
        }
      ]
    },
    {
      "cell_type": "markdown",
      "metadata": {
        "id": "pWtp-mX-rDyJ"
      },
      "source": [
        "Hence, 1 unit increase in number of years, lived at certain address, will result in ~$0.4$% increase in long-distance calls, that seems reasonable to expect from customer, that becomes more habituated to the place of living. "
      ]
    },
    {
      "cell_type": "markdown",
      "metadata": {
        "id": "Tzld3e-5smJh"
      },
      "source": [
        "- **retire**"
      ]
    },
    {
      "cell_type": "code",
      "metadata": {
        "id": "Prp5Y4LHrCLN",
        "colab": {
          "base_uri": "https://localhost:8080/",
          "height": 36
        },
        "outputId": "da388082-fb35-45e0-cd97-f3fd536dcf91"
      },
      "source": [
        "print(\"retire coefficient:\", result.params.retire)"
      ],
      "execution_count": null,
      "outputs": [
        {
          "output_type": "stream",
          "text": [
            "retire coefficient: 0.19834593512981574\n"
          ],
          "name": "stdout"
        }
      ]
    },
    {
      "cell_type": "code",
      "metadata": {
        "id": "ViTUZreyCFNr",
        "colab": {
          "base_uri": "https://localhost:8080/",
          "height": 36
        },
        "outputId": "81bcd922-9272-4f5f-afc2-6e395ce5092c"
      },
      "source": [
        "print('By being retired client increases percent of his long-distance calls by',100*(np.exp(result.params.retire)-1),'%.')"
      ],
      "execution_count": null,
      "outputs": [
        {
          "output_type": "stream",
          "text": [
            "By being retired client increases percent of his long-distance calls by 21.938414868129506 %.\n"
          ],
          "name": "stdout"
        }
      ]
    },
    {
      "cell_type": "markdown",
      "metadata": {
        "id": "BGeobu2ru0Ce"
      },
      "source": [
        "- **ed**"
      ]
    },
    {
      "cell_type": "markdown",
      "metadata": {
        "id": "ZOOu_-yvu2k0"
      },
      "source": [
        "Let's look at exponentiated parameters for $ed$ dummy variables:"
      ]
    },
    {
      "cell_type": "code",
      "metadata": {
        "id": "VEqJSzRVskdU",
        "colab": {
          "base_uri": "https://localhost:8080/",
          "height": 109
        },
        "outputId": "b05a1076-e697-4eb3-9787-b843d646e120"
      },
      "source": [
        "100*(np.exp(result.params[11:15]).sort_values()-1)"
      ],
      "execution_count": null,
      "outputs": [
        {
          "output_type": "execute_result",
          "data": {
            "text/plain": [
              "ed_Did not complete high school   -12.445476\n",
              "ed_Post-undergraduate degree       -9.646898\n",
              "ed_Some college                    -4.003929\n",
              "ed_High school degree              -3.345989\n",
              "dtype: float64"
            ]
          },
          "metadata": {
            "tags": []
          },
          "execution_count": 103
        }
      ]
    },
    {
      "cell_type": "markdown",
      "metadata": {
        "id": "sq4grLqiu7MT"
      },
      "source": [
        "We see that all those $ed$ variables presence decrease percentage of long-distance calls for the client. The most negative impact on long-distance calls is by having incompleted high school (12% decrease), which is generally reasonable. However on other $ed$ variables I wouldn't be so sure, why they decrease percent of $longmon$."
      ]
    },
    {
      "cell_type": "markdown",
      "metadata": {
        "id": "25RsJ4fqHRH8"
      },
      "source": [
        "### **7. Compute the 95% confidence intervals for the parameters of $address$ and $income$ and provide its economic meaning. Relate the CIs to the tests of significance, i.e. how would you use these intervals to decide about the significance of the corresponding explanatory variables? The CIs are computed relying on the assumption, that the residuals follow normal distribution. Is this assumption fulfilled? Run an appropriate goodness-of-fit test.**"
      ]
    },
    {
      "cell_type": "markdown",
      "metadata": {
        "id": "I7b-tewFHgEs"
      },
      "source": [
        "**95%-CI and p-value computation for parameters:**"
      ]
    },
    {
      "cell_type": "markdown",
      "metadata": {
        "id": "V1FwBtt6HsjZ"
      },
      "source": [
        "We will compute confidence intervals with the help of Statsmodels. Statsmodels library computes 95% confidence intervals during regression according to the formula:\n",
        "\n",
        "$[\\hat{\\beta_j}-t_{N-K-1;1-\\alpha/2}\\cdot \\sqrt{\\hat{Var(\\hat{\\beta_j})}}; \n",
        "\\hat{\\beta_j}+t_{N-K-1;1-\\alpha/2}\\cdot \\sqrt{\\hat{Var(\\hat{\\beta_j})}}]$"
      ]
    },
    {
      "cell_type": "markdown",
      "metadata": {
        "id": "16tcT9zQQp0B"
      },
      "source": [
        "Let's write a wrapper function for statsmodels 95%-CI computation routine:"
      ]
    },
    {
      "cell_type": "code",
      "metadata": {
        "id": "NpK_RfNwQriH"
      },
      "source": [
        "def conf_beta(reg_result,var_name):\n",
        "    return reg_result.conf_int().loc[var_name, :]"
      ],
      "execution_count": null,
      "outputs": []
    },
    {
      "cell_type": "markdown",
      "metadata": {
        "id": "LhTbXRDGQ65L"
      },
      "source": [
        "95%-CI of $address$ and $income$:"
      ]
    },
    {
      "cell_type": "code",
      "metadata": {
        "id": "hCOJCthA-mJ_",
        "colab": {
          "base_uri": "https://localhost:8080/",
          "height": 72
        },
        "outputId": "cab5ebc5-d473-4bbb-af15-7c577c610226"
      },
      "source": [
        "lower_bound_addr, upper_bound_addr = conf_beta(result,'address')\n",
        "print('95%-CI for beta-parameter of \"address\":[{};{}]'.format(lower_bound_addr, upper_bound_addr))\n",
        "print('')\n",
        "lower_bound_inc, upper_bound_inc = conf_beta(result,'income')\n",
        "print('95%-CI for beta-parameter of \"income\":[{};{}]'.format(lower_bound_inc, upper_bound_inc))"
      ],
      "execution_count": null,
      "outputs": [
        {
          "output_type": "stream",
          "text": [
            "95%-CI for beta-parameter of \"address\":[0.00037762329450355143;0.0071960955212977155]\n",
            "\n",
            "95%-CI for beta-parameter of \"income\":[-0.0003761327489784249;0.00020592863137949152]\n"
          ],
          "name": "stdout"
        }
      ]
    },
    {
      "cell_type": "markdown",
      "metadata": {
        "id": "b_1huk9IRELT"
      },
      "source": [
        "Let's check p-values for beta-parameters of \"address\" and \"income\":"
      ]
    },
    {
      "cell_type": "code",
      "metadata": {
        "id": "O5-JcSyP-uHw",
        "colab": {
          "base_uri": "https://localhost:8080/",
          "height": 72
        },
        "outputId": "77e2f643-4636-4e97-9adc-50038c7dfa1d"
      },
      "source": [
        "p_value_addr = result.pvalues['address']\n",
        "print('p-value for address beta-coefficient:',p_value_addr)\n",
        "print('')\n",
        "p_value_inc = result.pvalues['income']\n",
        "print('p-value for income beta-coefficient:',p_value_inc)"
      ],
      "execution_count": null,
      "outputs": [
        {
          "output_type": "stream",
          "text": [
            "p-value for address beta-coefficient: 0.029513197167586616\n",
            "\n",
            "p-value for income beta-coefficient: 0.5662134072085576\n"
          ],
          "name": "stdout"
        }
      ]
    },
    {
      "cell_type": "markdown",
      "metadata": {
        "id": "iV4fm51PRx8g"
      },
      "source": [
        "**Conclusion on significance of beta-parameters:** \n",
        "\n",
        "We can say from 95% confidence interval of $address$ beta-coefficient that its true value of beta-coefficient with 95% probability lies in the interval that doesn't include zero, testifying in favour of $address$ coefficient significance. P-value confirms this statement. Thus, we can reject null hypothesis about $address$ insignificance.\n",
        "\n",
        "On the contrary, p-value for $income$ beta-parameter doesn't allow us to reject the null hypothesis that $\\beta=0$ for $income$. Simultaneously, we see that 95%-CI for beta-coef of $income$ includes 0, supporting previous sentence statement."
      ]
    },
    {
      "cell_type": "markdown",
      "metadata": {
        "id": "tQa59xGtR5M-"
      },
      "source": [
        "**Economic meaning:**\n",
        "\n",
        "For economic meaning for 95%-CI of $address$ and $income$ beta-parameter let's exponentiate such parameters, because in our model we have log-transformed y-variable."
      ]
    },
    {
      "cell_type": "markdown",
      "metadata": {
        "id": "jhQOUq86SavS"
      },
      "source": [
        "$address$ CI intepretation after exponentiation:"
      ]
    },
    {
      "cell_type": "code",
      "metadata": {
        "id": "VS_T28f6SdNv",
        "colab": {
          "base_uri": "https://localhost:8080/",
          "height": 36
        },
        "outputId": "b23dbb00-b078-45b2-a13e-986b9609c1d1"
      },
      "source": [
        "lower_exp = np.exp(lower_bound_addr)\n",
        "upper_exp = np.exp(upper_bound_addr)\n",
        "print('Exponentiated 95%-CI for address beta-coefficient:[{},{}]'.format(lower_exp,upper_exp))"
      ],
      "execution_count": null,
      "outputs": [
        {
          "output_type": "stream",
          "text": [
            "Exponentiated 95%-CI for address beta-coefficient:[1.0003776946031555,1.007222049635417]\n"
          ],
          "name": "stdout"
        }
      ]
    },
    {
      "cell_type": "markdown",
      "metadata": {
        "id": "QfWlN6WCSg6W"
      },
      "source": [
        "From above exponentiated CI we can conclude that if there is one year (unit) increase in living at some place, it will result in long-distance calls increase by percentage in between [$0.03$%,$0.7$%] interval."
      ]
    },
    {
      "cell_type": "markdown",
      "metadata": {
        "id": "4HlFrmjUSon1"
      },
      "source": [
        "$income$ CI intepretation after exponentiation:"
      ]
    },
    {
      "cell_type": "code",
      "metadata": {
        "id": "MsmChwxoSuF0",
        "colab": {
          "base_uri": "https://localhost:8080/",
          "height": 36
        },
        "outputId": "cc94324e-bcaa-4c01-cea3-0d8bdc261964"
      },
      "source": [
        "lower_exp = np.exp(lower_bound_inc)\n",
        "upper_exp = np.exp(upper_bound_inc)\n",
        "print('Exponentiated 95%-CI for income beta-coefficient:[{},{}]'.format(lower_exp,upper_exp))"
      ],
      "execution_count": null,
      "outputs": [
        {
          "output_type": "stream",
          "text": [
            "Exponentiated 95%-CI for income beta-coefficient:[0.9996239379800759,1.0002059498361355]\n"
          ],
          "name": "stdout"
        }
      ]
    },
    {
      "cell_type": "markdown",
      "metadata": {
        "id": "Iykik_YsT4t3"
      },
      "source": [
        "Here we have contradictory result, which directly stems from above-established insignificance of beta-coefficient for this variable, as from above result it seems like if there is one unit increase in income, it can result in long-distance calls both decrease and increase."
      ]
    },
    {
      "cell_type": "markdown",
      "metadata": {
        "id": "HO8ZqjXqT-9q"
      },
      "source": [
        "**Checking normality of residuals:**"
      ]
    },
    {
      "cell_type": "markdown",
      "metadata": {
        "id": "UyB99RUbUDGx"
      },
      "source": [
        "Firstly, let's plot residuals distribution to get a feel of what's going on:"
      ]
    },
    {
      "cell_type": "code",
      "metadata": {
        "id": "fPNjBrENUEdG",
        "colab": {
          "base_uri": "https://localhost:8080/",
          "height": 320
        },
        "outputId": "18ef7ccf-8304-4092-c1ff-de5c31f584f7"
      },
      "source": [
        "res = result.resid\n",
        "f, axes = plt.subplots(1, 2, figsize=(15,5))\n",
        "sns.boxplot(res,ax=axes[0])\n",
        "sns.stripplot(res, color=\"red\", ax=axes[0])\n",
        "sns.distplot(res, ax=axes[1])\n",
        "plt.show()"
      ],
      "execution_count": null,
      "outputs": [
        {
          "output_type": "display_data",
          "data": {
            "image/png": "[encoded data removed]",
            "text/plain": [
              "<Figure size 1080x360 with 2 Axes>"
            ]
          },
          "metadata": {
            "tags": []
          }
        }
      ]
    },
    {
      "cell_type": "markdown",
      "metadata": {
        "id": "AMxUERjMUXbg"
      },
      "source": [
        "Seems like residuals are approxomately normal with zero mean, but having a lot of outliers (fatter tails). Let's do now a goodness-of-fit test, using Shapiro-Wilk and Kolgomorov-Smirnov tests. The former one is considered in research to have a relatively strong power.\n",
        "For both tests, their null hypothesis is that underlying distribution is normal. "
      ]
    },
    {
      "cell_type": "markdown",
      "metadata": {
        "id": "AlQmZ9xRUafX"
      },
      "source": [
        "Shapiro-Wilk test:"
      ]
    },
    {
      "cell_type": "code",
      "metadata": {
        "id": "bD5RVDzYUd6y",
        "colab": {
          "base_uri": "https://localhost:8080/",
          "height": 72
        },
        "outputId": "e5fbd915-cf28-42c1-9101-9853091fa416"
      },
      "source": [
        "print('Shapiro-Wilk test for residuals.')\n",
        "stat, p = stats.shapiro(res)\n",
        "print('Statistics=%.3f, p=%.3f' % (stat, p))\n",
        "# interpret\n",
        "alpha = 0.05\n",
        "if p > alpha:\n",
        "\tprint('Sample looks Gaussian (fail to reject H0)')\n",
        "else:\n",
        "\tprint('Sample does not look Gaussian (reject H0)')"
      ],
      "execution_count": null,
      "outputs": [
        {
          "output_type": "stream",
          "text": [
            "Shapiro-Wilk test for residuals.\n",
            "Statistics=0.998, p=0.310\n",
            "Sample looks Gaussian (fail to reject H0)\n"
          ],
          "name": "stdout"
        }
      ]
    },
    {
      "cell_type": "markdown",
      "metadata": {
        "id": "a4YuAJN4UgvK"
      },
      "source": [
        "Kolgomorov-Smirnov test:"
      ]
    },
    {
      "cell_type": "code",
      "metadata": {
        "id": "qWAkahhFUikX",
        "colab": {
          "base_uri": "https://localhost:8080/",
          "height": 72
        },
        "outputId": "b71d386d-e8c0-4d44-e75e-0791c1f9af25"
      },
      "source": [
        "print('Kolmogorov-Smirnov test for residuals.')\n",
        "stat, p = stats.kstest(res/res.std(), 'norm')\n",
        "print('Statistics=%.3f, p=%.3f' % (stat, p))\n",
        "# interpret\n",
        "alpha = 0.05\n",
        "if p > alpha:\n",
        "\tprint('Sample looks Gaussian (fail to reject H0)')\n",
        "else:\n",
        "\tprint('Sample does not look Gaussian (reject H0)')"
      ],
      "execution_count": null,
      "outputs": [
        {
          "output_type": "stream",
          "text": [
            "Kolmogorov-Smirnov test for residuals.\n",
            "Statistics=0.019, p=0.859\n",
            "Sample looks Gaussian (fail to reject H0)\n"
          ],
          "name": "stdout"
        }
      ]
    },
    {
      "cell_type": "markdown",
      "metadata": {
        "id": "HELGl4kRUoNg"
      },
      "source": [
        "**Conclusion:** residuals approximately follow normal distribution. "
      ]
    },
    {
      "cell_type": "markdown",
      "metadata": {
        "id": "MHGlqZmqXULc"
      },
      "source": [
        "### **8. Many of the variable appear insignificant and we should find the smallest model, which still has a good explanatory power. Choose this model using stepwise model selection (either based on the tests for $R^2$ or using $AIC/BIC$). Pick up the last step of the model selection procedure and explain in details how the method/approach works (or is implemented in your software). Work with this model in all the remaining steps.**"
      ]
    },
    {
      "cell_type": "markdown",
      "metadata": {
        "id": "mUMoqLI6ppa2"
      },
      "source": [
        "We will perform stepwise selection based on $AIC$ method. \n",
        "\n",
        "$AIC$ formula is the next:\n",
        "\n",
        "$\\ln(\\hat{\\sigma^{2}}) + \\frac{2K}{N}$,\n",
        "\n",
        "where\n",
        "\n",
        "$\\hat{\\sigma^{2}}$ - sample variance of prediction error;\n",
        "\n",
        "K - number of dependent variables;\n",
        "\n",
        "N - number of samples.\n",
        "\n",
        "As we see, $AIC$ penalizes models with bigger prediction error and more independent variables via multiplying result by 2. Thus, the lesser is $AIC$ - the better is the model. \n",
        "\n",
        "Let's create our stepwise selection algorithm (a.k.a stepwise regression) with AIC criterion:\n"
      ]
    },
    {
      "cell_type": "code",
      "metadata": {
        "id": "ad-2-Ll3FEBs",
        "colab": {
          "base_uri": "https://localhost:8080/",
          "height": 54
        },
        "outputId": "91358d1c-7517-4bfb-9aa7-884a263168e2"
      },
      "source": [
        "#creating our independent and dependent variables\n",
        "X = df.drop(['longmon_log','longmon'],axis=1).copy()\n",
        "y = df['longmon_log'].copy()\n",
        "\n",
        "#all names of our indep.vars\n",
        "ind_var_names = X.columns.tolist()\n",
        "\n",
        "#function\n",
        "def stepwise_selection(X, y, regressors_left):\n",
        "    #creating an empty list for selected regressors\n",
        "    regressors_selected = []\n",
        "    #creating empty list for scores\n",
        "    scores_selected = []\n",
        "    #creating default starting best score as np.inf as its bigger than any future scores and suitable for starting loop\n",
        "    best_score = np.inf \n",
        "    #assigning current score to starting best score\n",
        "    score = best_score\n",
        "    #looping until either all independent variables are used in all possible combinations or when further fit give no\n",
        "    #improvement in AIC \n",
        "    while regressors_left != [] and score==best_score:\n",
        "        regressor_score = []\n",
        "        for regressor in regressors_left:\n",
        "            X_selected = X.loc[:, regressors_selected+[regressor]]\n",
        "            X_selected_ = sm.add_constant(X_selected)\n",
        "            model_res = sm.OLS(y,X_selected_).fit()\n",
        "            s = model_res.aic\n",
        "            regressor_score.append(s)\n",
        "        i = np.argmin(regressor_score) \n",
        "        score = regressor_score[i]\n",
        "        if (score < best_score):\n",
        "            best_score = score \n",
        "            regressors_selected.append(regressors_left[i])\n",
        "            scores_selected.append(score)\n",
        "            del regressors_left[i]\n",
        "    last_var = regressors_left[i]\n",
        "    last_score = score\n",
        "    print('Stepwise selection with AIC picked {} independent variables:\\n{}'.format(len(regressors_selected), regressors_selected))\n",
        "    return regressors_selected,last_var,scores_selected,last_score\n",
        "\n",
        "regressors_selected,last_reg,scores_selected,last_score = stepwise_selection(X, y, ind_var_names)"
      ],
      "execution_count": null,
      "outputs": [
        {
          "output_type": "stream",
          "text": [
            "Stepwise selection with AIC picked 6 independent variables:\n",
            "['tenure', 'retire', 'ed_Did not complete high school', 'marital', 'address', 'ed_Post-undergraduate degree']\n"
          ],
          "name": "stdout"
        }
      ]
    },
    {
      "cell_type": "code",
      "metadata": {
        "id": "rTzLEz5QybjC",
        "colab": {
          "base_uri": "https://localhost:8080/",
          "height": 512
        },
        "outputId": "7535c435-e684-42c4-b397-1e597e02f3c1"
      },
      "source": [
        "x = regressors_selected+[last_reg]\n",
        "y = scores_selected+[last_score]\n",
        "plt.figure(figsize=(10,5))\n",
        "plt.plot(x, y)\n",
        "plt.scatter(x[:-1], scores_selected)\n",
        "plt.scatter(x[-1], last_score, color='r', zorder=10)\n",
        "plt.xticks(rotation='vertical')\n",
        "plt.xlabel('Independent variables',fontsize=14,fontweight='bold')\n",
        "plt.ylabel('AIC',fontsize=14,fontweight='bold')\n",
        "plt.title('AIC change depending on ind.variable',fontsize=20)\n",
        "plt.show()"
      ],
      "execution_count": null,
      "outputs": [
        {
          "output_type": "display_data",
          "data": {
            "image/png": "[encoded data removed]",
            "text/plain": [
              "<Figure size 720x360 with 1 Axes>"
            ]
          },
          "metadata": {
            "tags": []
          }
        }
      ]
    },
    {
      "cell_type": "markdown",
      "metadata": {
        "id": "54X07Zjhntq6"
      },
      "source": [
        "**Algorithm of stepwise model selection for AIC works in the next way:**\n",
        "\n",
        "1) It starts from fitting a separate model with each independent variable solely, counting AIC for every model. Then it chooses independent variable with the lowest AIC value;\n",
        "\n",
        "2) Algorithm then takes chosen independent variable and fits a separate model (using chosen dependent variable) for each independent variable that is left; It chooses second independent variable which (together with first chosen ind. variable) that gives best AIC if such AIC is better than fitting the model with just first var.\n",
        "\n",
        "3)  Algorithm continuos in the same manner with rest of left ind.variables until AIC is not improving from adding new ind.variable to model."
      ]
    },
    {
      "cell_type": "markdown",
      "metadata": {
        "id": "cdxOtZVWxY9A"
      },
      "source": [
        "We will further use this model:"
      ]
    },
    {
      "cell_type": "code",
      "metadata": {
        "id": "5MTbsOZQWkXr"
      },
      "source": [
        "X_sel = X.loc[:, regressors_selected].copy()\n",
        "X_sel_ = sm.add_constant(X_sel)\n",
        "y = df['longmon_log'].copy()\n",
        "new_model = sm.OLS(y,X_sel_)\n",
        "result = new_model.fit()"
      ],
      "execution_count": null,
      "outputs": []
    },
    {
      "cell_type": "markdown",
      "metadata": {
        "id": "7xCh6ms107Fp"
      },
      "source": [
        "### **9. Sometimes data contains outliers which induces bias in the parameter estimates. Check for outliers using Cook’s distance and leverage. Have a closer look at the observation with the highest leverage (regardless if it is classified as an outlier or not). What makes this observation so outstanding (you may have a look at Box-plots for interval scaled variables or at the frequencies for binary/ordinal variables?**"
      ]
    },
    {
      "cell_type": "markdown",
      "metadata": {
        "id": "cZ2VbT_HKmZY"
      },
      "source": [
        "One of the most common ways to detect response variable outliers is to plot Cook's distances per observation and use some rule of thumb for threshold value (but it should not be used as a law). "
      ]
    },
    {
      "cell_type": "markdown",
      "metadata": {
        "id": "eC2upgw5FrVz"
      },
      "source": [
        "Let's Cook's distance  values from OLS statsmodels function:"
      ]
    },
    {
      "cell_type": "code",
      "metadata": {
        "id": "mvilXtJs5PN4"
      },
      "source": [
        "influence = result.get_influence()\n",
        "#c is the distance and p is p-value\n",
        "(c, _) = influence.cooks_distance"
      ],
      "execution_count": null,
      "outputs": []
    },
    {
      "cell_type": "markdown",
      "metadata": {
        "id": "JszTNJ9DH3WD"
      },
      "source": [
        "Let's determine threshold for Cook's distance using well-known rule of thumb $\\frac{4}{n}$."
      ]
    },
    {
      "cell_type": "code",
      "metadata": {
        "id": "YehoC24iH2e8",
        "colab": {
          "base_uri": "https://localhost:8080/",
          "height": 36
        },
        "outputId": "ac9f2ce7-3f9c-4799-a3d6-d5056091680c"
      },
      "source": [
        "threshold = 4/(X.shape[0])\n",
        "print(threshold)"
      ],
      "execution_count": null,
      "outputs": [
        {
          "output_type": "stream",
          "text": [
            "0.004\n"
          ],
          "name": "stdout"
        }
      ]
    },
    {
      "cell_type": "markdown",
      "metadata": {
        "id": "cmsWc7__vx7D"
      },
      "source": [
        "Finding response variable outliers using above defined threshold:"
      ]
    },
    {
      "cell_type": "code",
      "metadata": {
        "id": "4P3FP7q85ynZ"
      },
      "source": [
        "outliers = pd.DataFrame(c,columns=['cook_dist'])\n",
        "outliers = outliers.loc[outliers['cook_dist'] > threshold]"
      ],
      "execution_count": null,
      "outputs": []
    },
    {
      "cell_type": "markdown",
      "metadata": {
        "id": "oOhTv6GVv1Ri"
      },
      "source": [
        "Plotting Cook's distance per observation with threshold (red line):"
      ]
    },
    {
      "cell_type": "code",
      "metadata": {
        "id": "Bq5GhJcKLoq2",
        "colab": {
          "base_uri": "https://localhost:8080/",
          "height": 487
        },
        "outputId": "7cd7e665-d970-48d9-84fa-adebdd5d10c6"
      },
      "source": [
        "plt.figure(figsize=(15,7))\n",
        "#plt.stem(np.arange(len(c)), c, markerfmt=\",\")\n",
        "plt.scatter(np.arange(len(c)), c, )\n",
        "plt.hlines(y=threshold, xmin=0, xmax=len(X), colors='black', linestyles='--', lw=2)\n",
        "plt.scatter(outliers.index.tolist(), outliers['cook_dist'],color='red')\n",
        "plt.ylabel(\"Cook's distance\",fontsize=16)\n",
        "plt.xlabel('Index of observation',fontsize=16)\n",
        "plt.legend([\"_\",\"Threshold of 4/n- well-known rule of thumb\",\"Outliers - points which are above threshold\"],fontsize=14)\n",
        "plt.title(\"Cook's distance per observation\",fontsize=20)\n",
        "plt.show()\n",
        "print('There are {} response variable outliers'.format(len(outliers)))"
      ],
      "execution_count": null,
      "outputs": [
        {
          "output_type": "display_data",
          "data": {
            "image/png": "[encoded data removed]",
            "text/plain": [
              "<Figure size 1080x504 with 1 Axes>"
            ]
          },
          "metadata": {
            "tags": []
          }
        },
        {
          "output_type": "stream",
          "text": [
            "There are 60 response variable outliers\n"
          ],
          "name": "stdout"
        }
      ]
    },
    {
      "cell_type": "markdown",
      "metadata": {
        "id": "1uX2vXxfUpJa"
      },
      "source": [
        "Let's plot our leverage per observation plot. In general, high leverage value doesn't mean that observation is an outlier. Let's paint outliers with other color and see what highest leverage points are also classified as outliers:"
      ]
    },
    {
      "cell_type": "code",
      "metadata": {
        "id": "6YqFFgKSUoTG"
      },
      "source": [
        "from statsmodels.stats.outliers_influence import OLSInfluence\n",
        "\n",
        "leverage = OLSInfluence(result).summary_frame()[['hat_diag']]"
      ],
      "execution_count": null,
      "outputs": []
    },
    {
      "cell_type": "code",
      "metadata": {
        "id": "E3zu7xTJUtqI"
      },
      "source": [
        "max_lev = leverage.sort_values(by=['hat_diag'],ascending=False).iloc[0]"
      ],
      "execution_count": null,
      "outputs": []
    },
    {
      "cell_type": "code",
      "metadata": {
        "id": "vjf2qhIyUuOD",
        "colab": {
          "base_uri": "https://localhost:8080/",
          "height": 487
        },
        "outputId": "96892a92-810f-4c5c-c2e6-187b973e5c2d"
      },
      "source": [
        "plt.figure(figsize=(15,7))\n",
        "plt.scatter(np.arange(len(leverage)), leverage['hat_diag'], c='green')\n",
        "plt.scatter(outliers.index.tolist(), leverage.iloc[outliers.index.tolist()],color='red')\n",
        "plt.ylabel(\"Leverage\",fontsize=16)\n",
        "plt.xlabel('Index of observation',fontsize=16)\n",
        "plt.legend(['_',\"Points which are classified by Cook's distance as outliers\"],fontsize=12)\n",
        "plt.title('Leverage per observation',fontsize=20)\n",
        "plt.show()\n",
        "print('Index of highest leverage point is {}'.format(leverage['hat_diag'].sort_values().tail(1).index.values[0]))"
      ],
      "execution_count": null,
      "outputs": [
        {
          "output_type": "display_data",
          "data": {
            "image/png": "[encoded data removed]",
            "text/plain": [
              "<Figure size 1080x504 with 1 Axes>"
            ]
          },
          "metadata": {
            "tags": []
          }
        },
        {
          "output_type": "stream",
          "text": [
            "Index of highest leverage point is 742\n"
          ],
          "name": "stdout"
        }
      ]
    },
    {
      "cell_type": "markdown",
      "metadata": {
        "id": "a3PDzSVGUyMU"
      },
      "source": [
        "**Conclusion:**\n",
        "\n",
        "We see that our highest leverage point is indeed classified by Cook's distance metric as an outlier. In general, a lot of outliers are also among the highest leverage points. "
      ]
    },
    {
      "cell_type": "markdown",
      "metadata": {
        "id": "ym6BeTgLU00I"
      },
      "source": [
        "Let's look at our highest leverage point more closely by plotting Box-plot distribution firstly for each interval-scaled variable of our model and plotting a dashed line for such variable value of highest leverage point. This way we can see visually which independent variable leads to such observation being the highest leverage:"
      ]
    },
    {
      "cell_type": "code",
      "metadata": {
        "id": "i5rlziEeU3QV",
        "colab": {
          "base_uri": "https://localhost:8080/",
          "height": 545
        },
        "outputId": "1ef67c8c-0015-43f5-dec1-2a312a621fca"
      },
      "source": [
        "interval_vars = ['tenure','address']\n",
        "for var in interval_vars:  \n",
        "    sns.boxplot(X_sel[var].values)\n",
        "    plt.vlines(X_sel.iloc[max_lev.name][var], ymin=-1, ymax=1, linestyle='--',colors='red', lw=2)\n",
        "    plt.title('Distribution of {} variable'.format(var))\n",
        "    plt.show()"
      ],
      "execution_count": null,
      "outputs": [
        {
          "output_type": "display_data",
          "data": {
            "image/png": "[encoded data removed]",
            "text/plain": [
              "<Figure size 432x288 with 1 Axes>"
            ]
          },
          "metadata": {
            "tags": []
          }
        },
        {
          "output_type": "display_data",
          "data": {
            "image/png": "[encoded data removed]",
            "text/plain": [
              "<Figure size 432x288 with 1 Axes>"
            ]
          },
          "metadata": {
            "tags": []
          }
        }
      ]
    },
    {
      "cell_type": "markdown",
      "metadata": {
        "id": "TmCLdoemGUnM"
      },
      "source": [
        "**Conclusion:**\n",
        "\n",
        "We can conclude that for both interval variables our highest leverage observation takes extreme values. It means that both $tenure$ and $address$ possibly contributes to making our observation so outstanding.\n"
      ]
    },
    {
      "cell_type": "markdown",
      "metadata": {
        "id": "ZEPGRZX8U-Hy"
      },
      "source": [
        "Let's see frequencies for our binaries:"
      ]
    },
    {
      "cell_type": "code",
      "metadata": {
        "id": "h4JYq716U8Eq",
        "colab": {
          "base_uri": "https://localhost:8080/",
          "height": 1000
        },
        "outputId": "431a2661-8b89-48df-c62d-0184c0a06810"
      },
      "source": [
        "binary_vars = ['retire','ed_Did not complete high school','marital','ed_Post-undergraduate degree']\n",
        "for var in binary_vars:  \n",
        "    X_sel[var].value_counts(normalize=True).plot(kind='bar')\n",
        "    plt.vlines(X_sel.iloc[max_lev.name][var], ymin=0, ymax=1, linestyle='--',colors='red', lw=2)\n",
        "    plt.title('Frequency of {} variable'.format(var))\n",
        "    plt.show()"
      ],
      "execution_count": null,
      "outputs": [
        {
          "output_type": "display_data",
          "data": {
            "image/png": "[encoded data removed]",
            "text/plain": [
              "<Figure size 432x288 with 1 Axes>"
            ]
          },
          "metadata": {
            "tags": []
          }
        },
        {
          "output_type": "display_data",
          "data": {
            "image/png": "[encoded data removed]",
            "text/plain": [
              "<Figure size 432x288 with 1 Axes>"
            ]
          },
          "metadata": {
            "tags": []
          }
        },
        {
          "output_type": "display_data",
          "data": {
            "image/png": "[encoded data removed]",
            "text/plain": [
              "<Figure size 432x288 with 1 Axes>"
            ]
          },
          "metadata": {
            "tags": []
          }
        },
        {
          "output_type": "display_data",
          "data": {
            "image/png": "[encoded data removed]",
            "text/plain": [
              "<Figure size 432x288 with 1 Axes>"
            ]
          },
          "metadata": {
            "tags": []
          }
        }
      ]
    },
    {
      "cell_type": "markdown",
      "metadata": {
        "id": "Lt5g7dKMLgVk"
      },
      "source": [
        "**Conclusion:**\n",
        "\n",
        "Among our binary variables, our observation only in case of $retire$ takes a rare value. Thus, $retire$ can also contribute to making the observation so high in leverage.  "
      ]
    },
    {
      "cell_type": "markdown",
      "metadata": {
        "id": "zj-dqW6B1B9a"
      },
      "source": [
        "### **10. Frequently data is missing. Pick up 5 rows in the data set and delete the value for address. Implement at least two approaches to fill in these values. Write down the corresponding formulas/model and give motivation for your approach. If you use standard routines then check how exactly the data imputation is implemented. How would you proceed if the value of the binary variable $retire$ is missing? Implementation is not required.**"
      ]
    },
    {
      "cell_type": "markdown",
      "metadata": {
        "id": "xDhb9S_LNmxa"
      },
      "source": [
        "Let's delete value of $address$ at 5 random rows:"
      ]
    },
    {
      "cell_type": "code",
      "metadata": {
        "id": "1Llo1NtWNoT-",
        "colab": {
          "base_uri": "https://localhost:8080/",
          "height": 145
        },
        "outputId": "88d8e7d2-4bbe-4c51-d3e2-c9b2c4999664"
      },
      "source": [
        "X_copy = X_sel.copy()\n",
        "rows_idx = [np.random.randint(1,len(X_copy)+1) for i in range(5)]\n",
        "X_copy.loc[(X_copy.index.isin(rows_idx)),'address'] = np.nan\n",
        "print(X_copy.isnull().any())"
      ],
      "execution_count": null,
      "outputs": [
        {
          "output_type": "stream",
          "text": [
            "tenure                             False\n",
            "retire                             False\n",
            "ed_Did not complete high school    False\n",
            "marital                            False\n",
            "address                             True\n",
            "ed_Post-undergraduate degree       False\n",
            "dtype: bool\n"
          ],
          "name": "stdout"
        }
      ]
    },
    {
      "cell_type": "markdown",
      "metadata": {
        "id": "D2FCp-C_bD23"
      },
      "source": [
        "We have missing data completely at random. \n",
        "\n",
        "In our case we don't have a lot of data, so dropping rows can lead to us losing significant information. \n",
        "\n"
      ]
    },
    {
      "cell_type": "markdown",
      "metadata": {
        "id": "RJYAjONIct2_"
      },
      "source": [
        "- **mean imputation**\n",
        "\n",
        "We will do mean imputation, as this is the simplest method and also because sample mean variable is not biased. However, the method contains few drawbacks."
      ]
    },
    {
      "cell_type": "code",
      "metadata": {
        "id": "00QWAEX8Nr9U"
      },
      "source": [
        "X_copy.loc[(X_copy.index.isin(rows_idx)),'address'] = np.nan\n",
        "X_copy['address'].fillna(X_copy['address'].mean(),inplace=True)"
      ],
      "execution_count": null,
      "outputs": []
    },
    {
      "cell_type": "markdown",
      "metadata": {
        "id": "fkrjAcPji2FD"
      },
      "source": [
        "It works just simple:\n",
        "\n",
        "$missing$_$value_{address}$ = $\\mathbb{E}[address]$."
      ]
    },
    {
      "cell_type": "markdown",
      "metadata": {
        "id": "TPFN0YIwhrLY"
      },
      "source": [
        "- **one-hot imputation**:\n",
        "\n",
        "As in real life we don't know why data is missing, one of the most popular methods for imputation is one-hot encoding by creating a dummy variable. It works by creating a dummy variable that indicates whether a data point is missing, then substituting any arbitrary value (like $0$) for the missing data in the original variable."
      ]
    },
    {
      "cell_type": "code",
      "metadata": {
        "id": "KAV72ESHhp4x"
      },
      "source": [
        "X_copy.loc[(X_copy.index.isin(rows_idx)),'address'] = np.nan\n",
        "X_copy['NaN_address'] = 0\n",
        "X_copy['NaN_address'] = X_copy.address.map({np.nan:1})"
      ],
      "execution_count": null,
      "outputs": []
    },
    {
      "cell_type": "markdown",
      "metadata": {
        "id": "NuV5Jxv-nPyp"
      },
      "source": [
        "In case of missing $retire$, given that it's a binary variable, it would be appropriate to sample values from frequency distribution and fill NaNs by them. "
      ]
    },
    {
      "cell_type": "markdown",
      "metadata": {
        "id": "xoSKY0BW1M-Q"
      },
      "source": [
        "### **11. We consider now the model you have worked with so far and the model with original $y$ if you applied some transformation OR the model with $log(y)$ if you have not transformed $y$. Run an appropriate test to decide which of the models is superior. Explain, the idea of the test and why you cannot make a similar decision using $AIC/BIC$, etc.**"
      ]
    },
    {
      "cell_type": "markdown",
      "metadata": {
        "id": "iPdTiVBcBJjm"
      },
      "source": [
        "1) In our case we have a log-linear model (transformed dependent variable).\n",
        "\n",
        "2) In this case an appropriate way of checking whether log-linear model is better than simple linear is: \n",
        "\n",
        "- to fit a new model, which includes prediction both from linear and log-linear models for the formula: $y_i = \\beta x_i + \\delta_{lin}(\\ln \\hat{y_i}-\\hat{\\ln y_i})$, \n",
        "\n",
        "where\n",
        "\n",
        "$\\hat{y_i}$ - predictions from linear model;\n",
        "\n",
        "$\\hat{\\ln y_i}$ - predictions from log-linear model;\n",
        "- check from regression results whether $H_0:\\delta_{lin}=0$ is not rejected;\n",
        "- if it's rejected - log-linear model provides additional valuable information in predicting $y$, otherwise linear model is superior.\n",
        "\n",
        "3) The idea of the test is to check whether difference between log-transformed prediction from linear model and prediction from log-linear model ($\\ln \\hat{y_i}-\\hat{\\ln y_i}$) have any influence on prediction.\n",
        "\n",
        "4) The reason why we can't make similar decision using $AIC/BIC$ or $R^2_{adj}$ is that in formulas for both cases we are using fitted model residuals, which make impossible comparison of such metrics across models with different natures of residuals, where in one case residuals come from log-transformed $y$ and in another from original $y$."
      ]
    },
    {
      "cell_type": "markdown",
      "metadata": {
        "id": "U3lyN8TbECsQ"
      },
      "source": [
        "Implementation of above-test:"
      ]
    },
    {
      "cell_type": "markdown",
      "metadata": {
        "id": "aOP35Oe-2Is9"
      },
      "source": [
        "- Same model with original $y$ (fit and prediction):"
      ]
    },
    {
      "cell_type": "code",
      "metadata": {
        "id": "WTrd4PbFBI4l"
      },
      "source": [
        "X_sel = X.loc[:, regressors_selected].copy()\n",
        "X_sel_ = sm.add_constant(X_sel)\n",
        "y_orig = df['longmon'].copy()\n",
        "linear_model = sm.OLS(y_orig,X_sel_)\n",
        "result_linear = linear_model.fit()"
      ],
      "execution_count": null,
      "outputs": []
    },
    {
      "cell_type": "markdown",
      "metadata": {
        "id": "2kgGNcSp3dPa"
      },
      "source": [
        "($\\ln \\hat{y_i}-\\hat{\\ln y_i}$):"
      ]
    },
    {
      "cell_type": "code",
      "metadata": {
        "id": "imCuf78A3cl-"
      },
      "source": [
        "diff = np.log(result_linear.predict(X_sel_)) - result.predict(X_sel_)"
      ],
      "execution_count": null,
      "outputs": []
    },
    {
      "cell_type": "markdown",
      "metadata": {
        "id": "lU3J6jU94GnN"
      },
      "source": [
        "Adding new variable to our X data:"
      ]
    },
    {
      "cell_type": "code",
      "metadata": {
        "id": "PEsW5QQE4aWj"
      },
      "source": [
        "X_sel_['diff'] = diff"
      ],
      "execution_count": null,
      "outputs": []
    },
    {
      "cell_type": "markdown",
      "metadata": {
        "id": "3oVyTitc4eKJ"
      },
      "source": [
        "Fitting:"
      ]
    },
    {
      "cell_type": "code",
      "metadata": {
        "id": "JNBjkM7B96LT",
        "colab": {
          "base_uri": "https://localhost:8080/",
          "height": 575
        },
        "outputId": "653e97fa-14c6-4a11-d8d3-6586ae7e0591"
      },
      "source": [
        "idx=X_sel_[np.isnan(X_sel_['diff'])].index.tolist()\n",
        "X_sel_=X_sel_.drop(idx,axis=0)\n",
        "y_orig=y_orig.drop(idx,axis=0)\n",
        "check_model = sm.OLS(y_orig,X_sel_)\n",
        "check_result = check_model.fit()\n",
        "check_result.summary()"
      ],
      "execution_count": null,
      "outputs": [
        {
          "output_type": "execute_result",
          "data": {
            "text/html": [
              "<table class=\"simpletable\">\n",
              "<caption>OLS Regression Results</caption>\n",
              "<tr>\n",
              "  <th>Dep. Variable:</th>         <td>longmon</td>     <th>  R-squared:         </th> <td>   0.567</td> \n",
              "</tr>\n",
              "<tr>\n",
              "  <th>Model:</th>                   <td>OLS</td>       <th>  Adj. R-squared:    </th> <td>   0.564</td> \n",
              "</tr>\n",
              "<tr>\n",
              "  <th>Method:</th>             <td>Least Squares</td>  <th>  F-statistic:       </th> <td>   182.4</td> \n",
              "</tr>\n",
              "<tr>\n",
              "  <th>Date:</th>             <td>Sun, 09 Feb 2020</td> <th>  Prob (F-statistic):</th> <td>2.54e-172</td>\n",
              "</tr>\n",
              "<tr>\n",
              "  <th>Time:</th>                 <td>03:30:02</td>     <th>  Log-Likelihood:    </th> <td> -3279.2</td> \n",
              "</tr>\n",
              "<tr>\n",
              "  <th>No. Observations:</th>      <td>   982</td>      <th>  AIC:               </th> <td>   6574.</td> \n",
              "</tr>\n",
              "<tr>\n",
              "  <th>Df Residuals:</th>          <td>   974</td>      <th>  BIC:               </th> <td>   6613.</td> \n",
              "</tr>\n",
              "<tr>\n",
              "  <th>Df Model:</th>              <td>     7</td>      <th>                     </th>     <td> </td>    \n",
              "</tr>\n",
              "<tr>\n",
              "  <th>Covariance Type:</th>      <td>nonrobust</td>    <th>                     </th>     <td> </td>    \n",
              "</tr>\n",
              "</table>\n",
              "<table class=\"simpletable\">\n",
              "<tr>\n",
              "                 <td></td>                    <th>coef</th>     <th>std err</th>      <th>t</th>      <th>P>|t|</th>  <th>[0.025</th>    <th>0.975]</th>  \n",
              "</tr>\n",
              "<tr>\n",
              "  <th>const</th>                           <td>   -2.9854</td> <td>    0.535</td> <td>   -5.579</td> <td> 0.000</td> <td>   -4.036</td> <td>   -1.935</td>\n",
              "</tr>\n",
              "<tr>\n",
              "  <th>tenure</th>                          <td>    0.3513</td> <td>    0.013</td> <td>   26.603</td> <td> 0.000</td> <td>    0.325</td> <td>    0.377</td>\n",
              "</tr>\n",
              "<tr>\n",
              "  <th>retire</th>                          <td>    7.4869</td> <td>    1.078</td> <td>    6.945</td> <td> 0.000</td> <td>    5.371</td> <td>    9.602</td>\n",
              "</tr>\n",
              "<tr>\n",
              "  <th>ed_Did not complete high school</th> <td>   -1.5206</td> <td>    0.559</td> <td>   -2.718</td> <td> 0.007</td> <td>   -2.619</td> <td>   -0.423</td>\n",
              "</tr>\n",
              "<tr>\n",
              "  <th>marital</th>                         <td>    1.5132</td> <td>    0.450</td> <td>    3.365</td> <td> 0.001</td> <td>    0.631</td> <td>    2.396</td>\n",
              "</tr>\n",
              "<tr>\n",
              "  <th>address</th>                         <td>    0.1160</td> <td>    0.026</td> <td>    4.415</td> <td> 0.000</td> <td>    0.064</td> <td>    0.168</td>\n",
              "</tr>\n",
              "<tr>\n",
              "  <th>ed_Post-undergraduate degree</th>    <td>   -2.4481</td> <td>    0.907</td> <td>   -2.700</td> <td> 0.007</td> <td>   -4.227</td> <td>   -0.669</td>\n",
              "</tr>\n",
              "<tr>\n",
              "  <th>diff</th>                            <td>   -3.7790</td> <td>    0.457</td> <td>   -8.263</td> <td> 0.000</td> <td>   -4.677</td> <td>   -2.882</td>\n",
              "</tr>\n",
              "</table>\n",
              "<table class=\"simpletable\">\n",
              "<tr>\n",
              "  <th>Omnibus:</th>       <td>715.280</td> <th>  Durbin-Watson:     </th> <td>   2.009</td> \n",
              "</tr>\n",
              "<tr>\n",
              "  <th>Prob(Omnibus):</th> <td> 0.000</td>  <th>  Jarque-Bera (JB):  </th> <td>19925.094</td>\n",
              "</tr>\n",
              "<tr>\n",
              "  <th>Skew:</th>          <td> 2.990</td>  <th>  Prob(JB):          </th> <td>    0.00</td> \n",
              "</tr>\n",
              "<tr>\n",
              "  <th>Kurtosis:</th>      <td>24.242</td>  <th>  Cond. No.          </th> <td>    216.</td> \n",
              "</tr>\n",
              "</table><br/><br/>Warnings:<br/>[1] Standard Errors assume that the covariance matrix of the errors is correctly specified."
            ],
            "text/plain": [
              "<class 'statsmodels.iolib.summary.Summary'>\n",
              "\"\"\"\n",
              "                            OLS Regression Results                            \n",
              "==============================================================================\n",
              "Dep. Variable:                longmon   R-squared:                       0.567\n",
              "Model:                            OLS   Adj. R-squared:                  0.564\n",
              "Method:                 Least Squares   F-statistic:                     182.4\n",
              "Date:                Sun, 09 Feb 2020   Prob (F-statistic):          2.54e-172\n",
              "Time:                        03:30:02   Log-Likelihood:                -3279.2\n",
              "No. Observations:                 982   AIC:                             6574.\n",
              "Df Residuals:                     974   BIC:                             6613.\n",
              "Df Model:                           7                                         \n",
              "Covariance Type:            nonrobust                                         \n",
              "===================================================================================================\n",
              "                                      coef    std err          t      P>|t|      [0.025      0.975]\n",
              "---------------------------------------------------------------------------------------------------\n",
              "const                              -2.9854      0.535     -5.579      0.000      -4.036      -1.935\n",
              "tenure                              0.3513      0.013     26.603      0.000       0.325       0.377\n",
              "retire                              7.4869      1.078      6.945      0.000       5.371       9.602\n",
              "ed_Did not complete high school    -1.5206      0.559     -2.718      0.007      -2.619      -0.423\n",
              "marital                             1.5132      0.450      3.365      0.001       0.631       2.396\n",
              "address                             0.1160      0.026      4.415      0.000       0.064       0.168\n",
              "ed_Post-undergraduate degree       -2.4481      0.907     -2.700      0.007      -4.227      -0.669\n",
              "diff                               -3.7790      0.457     -8.263      0.000      -4.677      -2.882\n",
              "==============================================================================\n",
              "Omnibus:                      715.280   Durbin-Watson:                   2.009\n",
              "Prob(Omnibus):                  0.000   Jarque-Bera (JB):            19925.094\n",
              "Skew:                           2.990   Prob(JB):                         0.00\n",
              "Kurtosis:                      24.242   Cond. No.                         216.\n",
              "==============================================================================\n",
              "\n",
              "Warnings:\n",
              "[1] Standard Errors assume that the covariance matrix of the errors is correctly specified.\n",
              "\"\"\""
            ]
          },
          "metadata": {
            "tags": []
          },
          "execution_count": 268
        }
      ]
    },
    {
      "cell_type": "markdown",
      "metadata": {
        "id": "kcqULJbn_HPB"
      },
      "source": [
        "**Conclusion:**\n",
        "\n",
        "We see that we can reject null hypothesis and log-linear model is significant as p-value of diff $\\delta_{lin}$ is < 0.05 for ($\\ln \\hat{y_i}-\\hat{\\ln y_i}$)."
      ]
    },
    {
      "cell_type": "markdown",
      "metadata": {
        "id": "H_SN9L_y1WYp"
      },
      "source": [
        "### **12. We compare the predictive ability of the estimated regression. Consider the model you worked so far and the original model with the same $y$ but without transformation and selection of features. Compare the two models using $leave-one-out-CV$ and $5-fold-CV$. Explain the idea of this technique with formulas and draw a conclusion about the predictive ability of the models.**"
      ]
    },
    {
      "cell_type": "markdown",
      "metadata": {
        "id": "M2hL1zXDAQrY"
      },
      "source": [
        "General formula for K-fold cross-validation is the next:\n",
        "\n",
        "$\n",
        "CV(\\hat f) = \\frac{1}{N}\\sum_{i=1}^N L(y_i,\\hat{f}^{-K(i)}(x_i))\n",
        "$\n",
        "\n",
        ",where\n",
        "\n",
        "$\\hat{f}^{-K(i)}$ - fitted function. computed with the k-$th$ part of the data removed, to which we allocate observations, indexed by $i$;\n",
        "\n",
        "$\\hat{f}^{-K(i)}(x_i)$ - prediction value;\n",
        "\n",
        "$y_i$ - true value; \n",
        "\n",
        "$L$ - loss function;\n",
        "\n",
        "$N$ - number of data points/\n",
        "\n",
        "**K-fold Cross-validation procedure** works in the following manner:\n",
        "\n",
        "- In the loop of K times we fit our data on $K-1$ parts of the data and test fitted model with some mean loss function. \n",
        "\n",
        "- Each time in the fitting we use new K part for the testing. \n",
        "\n",
        "- After accumulating test results from each of the $K$ parts we often find average test result from $K$ fits, so that we can compare one algorithm to another in its performance.\n",
        "\n",
        "**Leave-one-out Cross-validation** is just K-fold procedure at its extreme, where $K=N$ and fitted model is tested on each data point sequentially after fitting to all other data points. \n",
        "\n",
        "\n",
        "\n",
        "\n",
        "\n"
      ]
    },
    {
      "cell_type": "markdown",
      "metadata": {
        "id": "dgW3W6FAmS4s"
      },
      "source": [
        "Let's perform K-fold CV for our models:"
      ]
    },
    {
      "cell_type": "markdown",
      "metadata": {
        "id": "CQ8NKE3ArQiS"
      },
      "source": [
        "- **New model**"
      ]
    },
    {
      "cell_type": "code",
      "metadata": {
        "id": "yBRt_f36ARIB",
        "colab": {
          "base_uri": "https://localhost:8080/",
          "height": 54
        },
        "outputId": "0acb35b2-5d2f-43eb-dbe6-ba3c776c2144"
      },
      "source": [
        "from sklearn.linear_model import LinearRegression\n",
        "from sklearn.model_selection import cross_validate\n",
        "X_sel = X.loc[:, regressors_selected].copy()\n",
        "linreg = LinearRegression()\n",
        "scores = cross_validate(linreg, X_sel, y, cv=5,\n",
        "                         scoring=('neg_mean_squared_error','r2'),\n",
        "                         )\n",
        "print('New model MSE without feature selection:',-np.mean(scores['test_neg_mean_squared_error']))\n",
        "print('New model R^2 without feature selection:',np.mean(scores['test_r2']))"
      ],
      "execution_count": null,
      "outputs": [
        {
          "output_type": "stream",
          "text": [
            "New model MSE without feature selection: 0.15645456339174205\n",
            "New model R^2 without feature selection: 0.7085576342969189\n"
          ],
          "name": "stdout"
        }
      ]
    },
    {
      "cell_type": "markdown",
      "metadata": {
        "id": "oiPQ6QZKrVO_"
      },
      "source": [
        "- **Old model**"
      ]
    },
    {
      "cell_type": "code",
      "metadata": {
        "id": "LOr_k9crqgZV",
        "colab": {
          "base_uri": "https://localhost:8080/",
          "height": 54
        },
        "outputId": "fd9d1f7e-76a6-4407-ca0a-268ad23f6645"
      },
      "source": [
        "linreg = LinearRegression()\n",
        "scores = cross_validate(linreg, X, y, cv=5,\n",
        "                         scoring=('neg_mean_squared_error','r2'),\n",
        "                         )\n",
        "print('Original model MSE without feature selection:',-np.mean(scores['test_neg_mean_squared_error']))\n",
        "print('Original model R^2 without feature selection:',np.mean(scores['test_r2']))"
      ],
      "execution_count": null,
      "outputs": [
        {
          "output_type": "stream",
          "text": [
            "Original model MSE without feature selection: 0.15809864301782392\n",
            "Original model MSE without feature selection: 0.7054711431617087\n"
          ],
          "name": "stdout"
        }
      ]
    },
    {
      "cell_type": "markdown",
      "metadata": {
        "id": "P-1onLq-rW6k"
      },
      "source": [
        "No differences in terms of $MSE$ or $R^2$ for $K-fold$."
      ]
    },
    {
      "cell_type": "markdown",
      "metadata": {
        "id": "WAKp37Krr93Y"
      },
      "source": [
        "Leave-one-out:"
      ]
    },
    {
      "cell_type": "markdown",
      "metadata": {
        "id": "r7C5GiMrsZF4"
      },
      "source": [
        "- **New model:**"
      ]
    },
    {
      "cell_type": "code",
      "metadata": {
        "id": "eANSlx4Fr8kR",
        "colab": {
          "base_uri": "https://localhost:8080/",
          "height": 36
        },
        "outputId": "a251bc0e-ba7f-4b80-e2e9-946ec11bf7a2"
      },
      "source": [
        "linreg = LinearRegression()\n",
        "scores = cross_validate(linreg, X_sel, y, cv=len(X_sel),\n",
        "                         scoring=('neg_mean_squared_error'),\n",
        "                         )\n",
        "print('New model MSE without feature selection:',-np.mean(scores['test_score']))"
      ],
      "execution_count": null,
      "outputs": [
        {
          "output_type": "stream",
          "text": [
            "New model MSE without feature selection: 0.15600960358909652\n"
          ],
          "name": "stdout"
        }
      ]
    },
    {
      "cell_type": "markdown",
      "metadata": {
        "id": "9Nef_jwBsc9S"
      },
      "source": [
        "- **Old model:**"
      ]
    },
    {
      "cell_type": "code",
      "metadata": {
        "id": "lOiG21HHshE1",
        "colab": {
          "base_uri": "https://localhost:8080/",
          "height": 36
        },
        "outputId": "8f57214b-d409-4636-8bc2-3ccf5411ceae"
      },
      "source": [
        "linreg = LinearRegression()\n",
        "scores = cross_validate(linreg, X, y, cv=len(X),\n",
        "                         scoring=('neg_mean_squared_error'),\n",
        "                         )\n",
        "print('Original model MSE without feature selection:',-np.mean(scores['test_score']))"
      ],
      "execution_count": null,
      "outputs": [
        {
          "output_type": "stream",
          "text": [
            "Original model MSE without feature selection: 0.15750107053924814\n"
          ],
          "name": "stdout"
        }
      ]
    },
    {
      "cell_type": "markdown",
      "metadata": {
        "id": "F_wWzp7usu-0"
      },
      "source": [
        "**Conclusion:**\n",
        "\n",
        "There is no difference in terms of cross-validation performance between orifinal and new models."
      ]
    },
    {
      "cell_type": "markdown",
      "metadata": {
        "id": "YC8a7QBcALBH"
      },
      "source": [
        "## **Problem 5: Further issues**"
      ]
    },
    {
      "cell_type": "markdown",
      "metadata": {
        "id": "nczVytcHAq_T"
      },
      "source": [
        "#### **Suppose that we create a new variable $y_t^{∗} = y_t +10$ and run the same linear regression using $y_t^{∗}$ instead of $y_t$ as a regressand.**"
      ]
    },
    {
      "cell_type": "markdown",
      "metadata": {
        "id": "hg0dAe2bBDUm"
      },
      "source": [
        "#### **1. How are $R^2$ and the estimate of the constant term related in the two regressions? What if we use $y_t^{∗} = y_t − 10$ instead?**"
      ]
    },
    {
      "cell_type": "markdown",
      "metadata": {
        "id": "ujSSn7e_BU7k"
      },
      "source": [
        "We know that addition of a constant to random variable just shifts the mean by such constant. In geometrical sense this would look like shifting every point 10 points up/down and we will have the same line with the same slope just ten points higher/lower. Consequently, it means that $y$-axis intercept will be 10 points higher/lower and $R^2$ (as a measure of explained variance) will stay the same.\n",
        "\n",
        "Formally,\n",
        "\n",
        "$y_t = \\beta_0 + \\sum_{1}^{k}\\beta_{k}x_{tk}+u_t$;\n",
        "\n",
        "$y_t^{*} = (\\beta_0 + \\sum_{1}^{k}\\beta_{k}x_{tk}+u_t)+10\n",
        "\\rightarrow u_t^{*}=u_t.\n",
        "$\n",
        "\n",
        "\n",
        "\n",
        "$\\hat{y_t} = \\hat\\beta_0 + \\sum_{1}^{k}\\hat\\beta_{k}x_{tk} \\rightarrow$\n",
        "\n",
        "$\\rightarrow \\hat{y_t^{*}} = (\\hat\\beta_0 + \\sum_{1}^{k}\\hat\\beta_{k}x_{tk})+10 \\rightarrow$ \n",
        "\n",
        "$\\rightarrow \\hat\\beta_0^{*}=\\hat\\beta_0+10$\n",
        "\n",
        "As $u_t^{*}=u_t$ and $s_{y^{*}}^{2}=\\frac{\\sum_{1}^{N}(y_t^{*}-\\bar{y^{*}})^2}{N-1}$=$\\frac{\\sum_{1}^{N}((y_t+10)-(\\bar{y}+10))^2}{N-1}=\n",
        "\\frac{\\sum_{1}^{N}(y_t-\\bar{y})^2}{N-1}=s_{y}^{2} \\rightarrow\n",
        "$\n",
        "\n",
        "$\\rightarrow R^{*2}=1 - \\frac{\\sum_{1}^{N}u_t^{*2}}{s_{y^{*}}^{2}}=1 - \\frac{\\sum_{1}^{N}u_t^{2}}{s_{y}^{2}}=R^{2}$ .\n",
        "\n",
        "\n",
        "\n"
      ]
    },
    {
      "cell_type": "markdown",
      "metadata": {
        "id": "e9va580IO9N_"
      },
      "source": [
        "#### **2. What if we do the same with one or all of the regressors?** "
      ]
    },
    {
      "cell_type": "markdown",
      "metadata": {
        "id": "TFYcL4x1YDPm"
      },
      "source": [
        "If we do that with regressors, we will geometrically only notice shift across respective independent variable axes. \n",
        "\n",
        "For $R^2$ it means that it stays unchanged.\n",
        "\n",
        "In case of our new constant (intercept) $\\beta_0^{*}$ we have the following in case of one regressor:\n",
        "\n",
        "$x_{t1}^{*} = x_{t1} + \\alpha\n",
        "\\rightarrow\n",
        "$\n",
        "\n",
        "$\n",
        "\\rightarrow\n",
        "\\hat {y_t} = \\hat {\\beta_0} + \\hat {\\beta_1} x_{t1} + \\cdots + \\hat {\\beta_K x_{tK}} = \n",
        "$\n",
        "\n",
        "$\n",
        "=\\hat {\\beta_0} + \\hat {\\beta_1 (x_{t1}} + \\alpha_1 - \\alpha_1) + \\cdots + \\hat {\\beta_K x_{tK}}=\n",
        "$\n",
        "\n",
        "$ = \\hat {\\beta_0} + \\hat {\\beta_1} x^*_{t1} - \\hat \\beta_1\\alpha_1 + \\cdots + \\hat \\beta_K x_{tK} =\n",
        "$\n",
        "\n",
        "$\n",
        "(\\hat \\beta_0 - \\hat \\beta_1\\alpha_1) + \\hat \\beta_1 x^*_{t1} + \\cdots + \\hat \\beta_K x_{tK} = \n",
        "$\n",
        "\n",
        "$\n",
        "\\hat \\beta^*_0 + \\hat \\beta^*_1 x^*_{t1} + \\cdots + \\hat \\beta^*_K x_{tK}\n",
        "\\rightarrow\n",
        "$\n",
        "\n",
        "$\n",
        "\\rightarrow\n",
        "\\hat \\beta^*_0  = \\hat \\beta_0 - \\hat \\beta_1\\alpha_1\n",
        "$\n",
        "\n",
        "It means that in general case it holds that\n",
        "$\n",
        "\\hat \\beta^*_0 = \\hat \\beta_0 - \\sum_{k=1}^K \\hat \\beta_k \\alpha_k\n",
        "$"
      ]
    },
    {
      "cell_type": "markdown",
      "metadata": {
        "id": "oiN2zcdBc9IN"
      },
      "source": [
        "#### **3. Consider a demeaned regression, i.e. center the regressors and the regressand to have zero mean. How does it influence the estimates?**"
      ]
    },
    {
      "cell_type": "markdown",
      "metadata": {
        "id": "qULayJmle8Uk"
      },
      "source": [
        "In case of constant such operation just accumulates all above effects:\n",
        "\n",
        "- Shifting regressors results for $\\hat \\beta_0$ in\n",
        "$\n",
        " - \\sum_{k=1}^K \\hat \\beta_k \\alpha_k\n",
        "$\n",
        "\n",
        "- Shifting regressand results for $\\hat \\beta_0$ in $-\\bar y$.\n",
        "\n",
        "Consequently, we have:\n",
        "\n",
        "$\\hat \\beta_0^*=\\hat \\beta_0 -\\bar y - \\sum_{k=1}^K \\hat \\beta_k \\alpha_k$.\n",
        "\n",
        "Naturally, $R^2$ remains unchanged for those cases."
      ]
    }
  ]
}